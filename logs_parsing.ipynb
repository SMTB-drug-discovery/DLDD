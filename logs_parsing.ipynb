{
 "cells": [
  {
   "cell_type": "code",
   "execution_count": null,
   "id": "b0cd5025-e40c-4d18-bc87-58ba3dcf6075",
   "metadata": {},
   "outputs": [],
   "source": [
    "import pandas as pd\n",
    "import plotly.express as px"
   ]
  },
  {
   "cell_type": "code",
   "execution_count": null,
   "id": "bfc274ec-b783-4846-9031-d1d95e357e43",
   "metadata": {},
   "outputs": [],
   "source": [
    "## Choose the correct version of the model!\n",
    "## cold_target/version_2 might not be the same for you!\n",
    "metrics = pd.read_csv('logs/cold_target/version_3/metrics.csv')"
   ]
  },
  {
   "cell_type": "code",
   "execution_count": null,
   "id": "286451db-d041-418c-a898-d6061269c6c8",
   "metadata": {},
   "outputs": [],
   "source": [
    "## only columns with \"epoch_\" or \"step\" or good!\n",
    "good_columns = [col for col in metrics.columns if \"epoch_\" in col or col == 'step']\n",
    "metrics = metrics[good_columns]"
   ]
  },
  {
   "cell_type": "code",
   "execution_count": null,
   "id": "c11f801b-55b4-4bf3-9874-06d800f7c30a",
   "metadata": {},
   "outputs": [],
   "source": [
    "# Clean up the data to remove nans\n",
    "metrics = metrics.groupby('step').agg('mean').dropna()\n",
    "metrics.index.name = 'epoch'\n",
    "metrics.head()"
   ]
  },
  {
   "cell_type": "code",
   "execution_count": null,
   "id": "d20ffd86-40c4-4d5a-84fb-9402291a6823",
   "metadata": {},
   "outputs": [],
   "source": [
    "px.line(metrics[['val_epoch_auroc', 'train_epoch_auroc']])"
   ]
  },
  {
   "cell_type": "code",
   "execution_count": null,
   "id": "0a4b71b2-eabf-480c-89f9-2f1ab7fb6799",
   "metadata": {},
   "outputs": [],
   "source": []
  }
 ],
 "metadata": {
  "kernelspec": {
   "display_name": "Python 3",
   "language": "python",
   "name": "python3"
  },
  "language_info": {
   "codemirror_mode": {
    "name": "ipython",
    "version": 3
   },
   "file_extension": ".py",
   "mimetype": "text/x-python",
   "name": "python",
   "nbconvert_exporter": "python",
   "pygments_lexer": "ipython3",
   "version": "3.7.8"
  }
 },
 "nbformat": 4,
 "nbformat_minor": 5
}
