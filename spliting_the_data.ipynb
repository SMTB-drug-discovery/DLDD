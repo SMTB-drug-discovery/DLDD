{
 "cells": [
  {
   "cell_type": "code",
   "execution_count": null,
   "id": "375ab1ee-d9a0-4b8f-8dac-3a6363d42ae9",
   "metadata": {},
   "outputs": [],
   "source": [
    "import pandas as pd\n",
    "import pickle\n",
    "from torch.utils.data import random_split  \n",
    "from dldd.utils import TwoGraphData"
   ]
  },
  {
   "cell_type": "code",
   "execution_count": null,
   "id": "0c9e75d8-8085-43fd-b36b-fb8be4635f9f",
   "metadata": {},
   "outputs": [],
   "source": [
    "filehandler = open('final_list.pkl', 'rb') \n",
    "data_list = pickle.load(filehandler)\n",
    "data_list = [TwoGraphData(**x) for x in data_list]"
   ]
  },
  {
   "cell_type": "code",
   "execution_count": null,
   "id": "81d0ce8d-cfce-4fd9-a34f-64e4edb6be28",
   "metadata": {},
   "outputs": [],
   "source": [
    "\n",
    "def split_number(number:int, train_frac=0.7, val_frac=0.2):\n",
    "    train = int(train_frac * number)\n",
    "    val = int(val_frac * number)\n",
    "    test = number - train - val\n",
    "    return train, val, test\n",
    "\n",
    "def split_data_random(dataset, train_frac = 0.7, val_frac = 0.2):      ### spliting the data randomly\n",
    "    train, val, test = split_number(len(dataset), train_frac, val_frac)\n",
    "    return random_split(dataset,[train,val,test]) \n",
    "\n",
    "def split_cold_drug_cold_prot(dataset, drug, prot, train_frac=0.7, val_frac=0.2):                        ### Cold split of both proteins and drugs                 \n",
    "    drug_train, drug_val, drug_test = random_split(drug, split_number(len(drug), train_frac, val_frac))\n",
    "    prot_train, prot_val, prot_test = random_split(prot, split_number(len(prot), train_frac, val_frac))\n",
    "    train = []\n",
    "    val = []\n",
    "    test = []\n",
    "    for i in dataset:\n",
    "        if i['accession'] in prot_train and i['smiles'] in drug_train:\n",
    "            train.append(i)\n",
    "        elif i['accession'] in prot_test or i['smiles'] in drug_test:\n",
    "            test.append(i)\n",
    "        else:\n",
    "            val.append(i)\n",
    "    return train, val, test\n",
    "\n",
    "def split_cold_drug(dataset, drug, train_frac=0.7, val_frac=0.2):                         ### Cold split of drugs      \n",
    "    drug_train, drug_val, drug_test = random_split(drug, split_number(len(drug), train_frac, val_frac))\n",
    "    train = []\n",
    "    val = []\n",
    "    test = []\n",
    "    for i in dataset:\n",
    "        if i['smiles'] in drug_train:\n",
    "            train.append(i)\n",
    "        elif i['smiles'] in drug_test:\n",
    "            test.append(i)\n",
    "        else:\n",
    "            val.append(i)\n",
    "    return train, val, test\n",
    "\n",
    "def split_cold_prot(dataset, prot, train_frac=0.7, val_frac=0.2):                          ### Cold split of proteins\n",
    "    prot_train, prot_val, prot_test = random_split(prot, split_number(len(prot), train_frac, val_frac))\n",
    "    train = []\n",
    "    val = []\n",
    "    test = []\n",
    "    for i in dataset:\n",
    "        if i['accession'] in prot_train:\n",
    "            train.append(i)\n",
    "        elif i['accession'] in prot_val:\n",
    "            val.append(i)\n",
    "        else:\n",
    "            test.append(i)\n",
    "    return train, val, test"
   ]
  },
  {
   "cell_type": "code",
   "execution_count": null,
   "id": "68c3e65e-2d34-4d0a-b756-494e5e01541b",
   "metadata": {},
   "outputs": [],
   "source": [
    "prot = list(set([x['accession'] for x in data_list]))\n",
    "drug = list(set([x['smiles'] for x in data_list]))\n"
   ]
  },
  {
   "cell_type": "code",
   "execution_count": null,
   "id": "4ef343da-f178-4fbc-bb23-8ba2330c8589",
   "metadata": {},
   "outputs": [],
   "source": [
    "train, val, test = split_data_random(data_list)        # preforming the function"
   ]
  },
  {
   "cell_type": "code",
   "execution_count": null,
   "id": "0f45fffe-c0e8-4e05-97c4-363e22eab397",
   "metadata": {},
   "outputs": [],
   "source": [
    "train, val, test = split_cold_drug(data_list, drug)        # preforming the function"
   ]
  },
  {
   "cell_type": "code",
   "execution_count": null,
   "id": "19d17d00-addc-425f-96ca-f2294c2143ec",
   "metadata": {},
   "outputs": [],
   "source": [
    "train, val, test = split_cold_prot(data_list, prot)        # preforming the function"
   ]
  },
  {
   "cell_type": "code",
   "execution_count": null,
   "id": "e49b9fbc-f96c-4b5a-9078-98aa883ecdec",
   "metadata": {},
   "outputs": [],
   "source": [
    "train, val, test = split_cold_drug_cold_prot(data_list,drug, prot)        # preforming the function"
   ]
  },
  {
   "cell_type": "code",
   "execution_count": null,
   "id": "58dd1879-098d-4974-9fe6-cdae36cbf02d",
   "metadata": {},
   "outputs": [],
   "source": [
    "!mkdir -p data"
   ]
  },
  {
   "cell_type": "code",
   "execution_count": null,
   "id": "d0053882-c2fe-4641-80a8-ff0a816ae8ee",
   "metadata": {},
   "outputs": [],
   "source": [
    "final_list = open('data/train.pkl', 'wb')         # saving the first results of the split_data() function\n",
    "pickle.dump(train, final_list)\n",
    "final_list = open('data/val.pkl', 'wb') \n",
    "pickle.dump(val, final_list)\n",
    "final_list = open('data/test.pkl', 'wb') \n",
    "pickle.dump(test, final_list)"
   ]
  },
  {
   "cell_type": "code",
   "execution_count": null,
   "id": "ef9259da-b36e-469c-b7b0-f454648e65fe",
   "metadata": {},
   "outputs": [],
   "source": []
  }
 ],
 "metadata": {
  "kernelspec": {
   "display_name": "Python 3",
   "language": "python",
   "name": "python3"
  },
  "language_info": {
   "codemirror_mode": {
    "name": "ipython",
    "version": 3
   },
   "file_extension": ".py",
   "mimetype": "text/x-python",
   "name": "python",
   "nbconvert_exporter": "python",
   "pygments_lexer": "ipython3",
   "version": "3.7.8"
  }
 },
 "nbformat": 4,
 "nbformat_minor": 5
}
