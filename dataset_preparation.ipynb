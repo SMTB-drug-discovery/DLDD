{
 "cells": [
  {
   "cell_type": "code",
   "execution_count": null,
   "id": "47e4375b-7f72-4199-beeb-3a980cebecdc",
   "metadata": {},
   "outputs": [],
   "source": [
    "import pandas as pd                                       #### Importing some libraries, probably not all of them are important\n",
    "import numpy as np\n",
    "import torch\n",
    "from rdkit import Chem\n",
    "from rdkit.Chem import rdmolfiles, rdmolops\n",
    "from torch_geometric.data import Data\n",
    "from torch_geometric.utils import to_undirected\n",
    "import numpy as np\n",
    "import pickle "
   ]
  },
  {
   "cell_type": "code",
   "execution_count": null,
   "id": "1f1a2381-0cea-4dd0-b7d8-62ec2bbcf471",
   "metadata": {},
   "outputs": [],
   "source": [
    "df = pd.read_csv('/srv/scratch/ALL/DATA/NR-DBIND.csv', sep=';')"
   ]
  },
  {
   "cell_type": "code",
   "execution_count": null,
   "id": "ff6df9fc-a69e-4d55-a52b-b63ef810ba78",
   "metadata": {},
   "outputs": [],
   "source": [
    "df['ID'] = df['ID'].astype(int).astype(str)\n",
    "df = df[df['p_binding_type'].isin(['pIC50', 'pKi'])] ## We only want p_binding_type to be pIC50 and pKi"
   ]
  },
  {
   "cell_type": "code",
   "execution_count": null,
   "id": "1d0ca740-2720-41ea-ab5c-3fd252afd4a4",
   "metadata": {},
   "outputs": [],
   "source": [
    "df = df[['ID', 'accession', 'smiles', 'CHEMBLID', 'p_binding_value']]"
   ]
  },
  {
   "cell_type": "code",
   "execution_count": null,
   "id": "fb8a6186-bfb9-49f8-952d-5959f1e969a6",
   "metadata": {},
   "outputs": [],
   "source": [
    "df = df.groupby(['accession', 'smiles']).agg('median').reset_index()"
   ]
  },
  {
   "cell_type": "code",
   "execution_count": null,
   "id": "7cb4022f-5fef-44a3-bb2a-014e0cf33769",
   "metadata": {},
   "outputs": [],
   "source": [
    "# only choose rows where p_binding_value is not NaN\n",
    "df = df[df['p_binding_value'].notna()]"
   ]
  },
  {
   "cell_type": "code",
   "execution_count": null,
   "id": "51f449f3-a90a-4940-920a-e5e185afade2",
   "metadata": {},
   "outputs": [],
   "source": [
    "def get_accession(name):\n",
    "    name = name.split('/')[2]\n",
    "    name = name.split('-')[1]\n",
    "    return name\n",
    "\n",
    "prot = pd.read_pickle('results/prepare_proteins/protein_data_label_label.pkl')\n",
    "prot.drop('sif', axis = 1)\n",
    "prot['sif'] = prot['sif'].apply(get_accession)\n",
    "prot['accession'] = prot['sif']\n",
    "prot.drop('sif', inplace=True, axis=1)"
   ]
  },
  {
   "cell_type": "code",
   "execution_count": null,
   "id": "1777b649-e3bc-4093-b401-4e1671bd2944",
   "metadata": {},
   "outputs": [],
   "source": [
    "### (nodes, edges, edge attributes (bond types))\n",
    "\n",
    "def smiles_to_torch(smiles: str) -> Data:               #### this is a function that takes in the smiles of drug \n",
    "    '''                                                 #### (example:CC(C)c1onc(c1COc2ccc(cc2)c3ccc4c(cccc4c3)C(=O)O)c5c(Cl)cccc5Cl)\n",
    "    Converts molecular smiles into torch data           #### it uses the torch library so i dont quite understand what its doing\n",
    "    '''\n",
    "    mol = Chem.MolFromSmiles(smiles)\n",
    "    if not mol:  # when rdkit fails to read a molecule it returns None\n",
    "        return np.nan\n",
    "    new_order = rdmolfiles.CanonicalRankAtoms(mol)\n",
    "    mol = rdmolops.RenumberAtoms(mol, new_order)\n",
    "    dictionary = {'SINGLE':0,'DOUBLE':1,'AROMATIC':2}   ### dictionary for bond types\n",
    "    edges = []\n",
    "    edge_atributes = []\n",
    "    for bond in mol.GetBonds():\n",
    "        start, end = bond.GetBeginAtomIdx(), bond.GetEndAtomIdx()\n",
    "        bond_type = str(bond.GetBondType())                        ### the addition of information about bond type\n",
    "\n",
    "        if bond_type in dictionary:\n",
    "            type = dictionary[bond_type]\n",
    "        else:\n",
    "            type = 3\n",
    "        edge_atributes.append(type)\n",
    "        edges.append([start, end])\n",
    "\n",
    "    if not edges:  # If no edges (bonds) were found, exit (single ion etc)\n",
    "        return np.nan\n",
    "    atom_features = []\n",
    "    for atom in mol.GetAtoms():\n",
    "        atom_num = atom.GetAtomicNum()\n",
    "        atom_feat = atom_num_dict.get(atom_num)\n",
    "        atom_features.append(atom_num)\n",
    "\n",
    "    x = torch.tensor(atom_features, dtype=torch.long)\n",
    "    edge_index = torch.tensor(edges).t().contiguous()\n",
    "    edge_atributes = torch.tensor(edge_atributes, dtype = torch.long)\n",
    "\n",
    "    return dict(x=x, edge_index=edge_index, edge_atributes=edge_atributes)   #returns a dictionary of values (we are pairing the \n",
    "                                                                             #names of lists and list in tensor format of all nodes (atoms),\n",
    "                                                                             #list of edges (bonds), and list of bond types\n",
    "        \n",
    "df['data'] = df['smiles'].apply(smiles_to_torch)           ### we apply the smiles_to_torch function to every smiles"
   ]
  },
  {
   "cell_type": "code",
   "execution_count": null,
   "id": "519b89d1-6cef-4896-ad9c-81b1dac31eaf",
   "metadata": {},
   "outputs": [],
   "source": [
    "prot_dict = {}\n",
    "for i in range(len(prot)):\n",
    "    row = prot.iloc[i]\n",
    "    prot_dict[row['accession']] = row['data']"
   ]
  },
  {
   "cell_type": "code",
   "execution_count": null,
   "id": "8c664745-9d17-45bc-b93e-4188c52a6838",
   "metadata": {},
   "outputs": [],
   "source": [
    "list_for_model = []\n",
    "for name, row in df.iterrows():\n",
    "    new_dict = {}\n",
    "    accession = row['accession']\n",
    "    data = row['data']\n",
    "    new_dict['drug_x'] = data['x'] \n",
    "    new_dict['drug_edge_index'] = data['edge_index']\n",
    "    new_dict['label'] = row['p_binding_value']\n",
    "    new_dict['protein_x'] = prot_dict[accession]['x']\n",
    "    new_dict['protein_edge_index'] = prot_dict[accession]['edge_index']\n",
    "    list_for_model.append(new_dict)"
   ]
  },
  {
   "cell_type": "code",
   "execution_count": null,
   "id": "29744716-61d6-4b39-963f-5918a41388d4",
   "metadata": {},
   "outputs": [],
   "source": [
    "final_list = open('final_list.pkl', 'wb') \n",
    "pickle.dump(list_for_model, final_list)                ### And finally we have a beautiful pickle file ready for the model"
   ]
  },
  {
   "cell_type": "code",
   "execution_count": null,
   "id": "346b2783-2ca7-4f40-a0ea-7250d1201e50",
   "metadata": {},
   "outputs": [],
   "source": []
  }
 ],
 "metadata": {
  "kernelspec": {
   "display_name": "Python 3",
   "language": "python",
   "name": "python3"
  },
  "language_info": {
   "codemirror_mode": {
    "name": "ipython",
    "version": 3
   },
   "file_extension": ".py",
   "mimetype": "text/x-python",
   "name": "python",
   "nbconvert_exporter": "python",
   "pygments_lexer": "ipython3",
   "version": "3.7.8"
  }
 },
 "nbformat": 4,
 "nbformat_minor": 5
}
