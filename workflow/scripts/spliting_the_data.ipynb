{
 "cells": [
  {
   "cell_type": "code",
   "execution_count": 1,
   "id": "cab849ae-a2a6-4211-97e8-0c52bf2086e2",
   "metadata": {},
   "outputs": [],
   "source": [
    "import pandas as pd\n",
    "import pickle\n",
    "filehandler = open('../../../DLDD/workflow/scripts/final_list2.pckl', 'rb') \n",
    "alll = pickle.load(filehandler)"
   ]
  },
  {
   "cell_type": "code",
   "execution_count": 2,
   "id": "d3fb357d-dc31-449a-ae72-8caacf6ad088",
   "metadata": {},
   "outputs": [],
   "source": [
    "from torch.utils.data import random_split                   ### importing random split"
   ]
  },
  {
   "cell_type": "code",
   "execution_count": null,
   "id": "88380340-2ed7-4832-8f53-499a9fecd929",
   "metadata": {},
   "outputs": [],
   "source": [
    "def split_data_random(dataset,train_percentage = 0.7,validation_percentage = 0.2):      ### spliting the data randomly\n",
    "    train = int(len(dataset)*train_percentage)\n",
    "    validation = int(len(dataset)*validation_percentage)\n",
    "    test = int(len(dataset) - train - validation)\n",
    "    return random_split(dataset,[train,validation,test]) "
   ]
  },
  {
   "cell_type": "code",
   "execution_count": 35,
   "id": "c368e770-da2e-42e0-9811-6424227dce96",
   "metadata": {},
   "outputs": [],
   "source": [
    "def split_data(dataset,drug,prot,percent=0.1):                        ### Cold split of both proteins and drugs                 \n",
    "    num_drugs = int(round(len(drug)*percent))\n",
    "    num_prots = int(round(len(prot)*percent))\n",
    "    drugs,_ = random_split(drug,[num_drugs,len(drug)-num_drugs])\n",
    "    prots,_ = random_split(prot,[num_prots,len(prot)-num_prots])\n",
    "    train = []\n",
    "    test = []\n",
    "    for i in range(len(dataset)):\n",
    "        if  dataset.iloc[i]['accession'] in prots or dataset.iloc[i]['drug'] in drugs:\n",
    "            test.append(dataset.iloc[i])\n",
    "        else:\n",
    "            train.append(dataset.iloc[i])\n",
    "    return train, test"
   ]
  },
  {
   "cell_type": "code",
   "execution_count": null,
   "id": "7d4d56ca-260e-491f-ba2c-8c8789b21741",
   "metadata": {},
   "outputs": [],
   "source": [
    "def split_cold_drug(dataset,drug,percent=0.2):                         ### Cold split of drugs      \n",
    "    num_drugs = int(round(len(drug)*percent))\n",
    "    drugs,_ = random_split(drug,[num_drugs,len(drug)-num_drugs])\n",
    "    train = []\n",
    "    test = []\n",
    "    for i in range(len(dataset)):\n",
    "        if  dataset.iloc[i]['drug'] in drugs:\n",
    "            test.append(dataset.iloc[i])\n",
    "        else:\n",
    "            train.append(dataset.iloc[i])\n",
    "    return train, test"
   ]
  },
  {
   "cell_type": "code",
   "execution_count": null,
   "id": "a3cf7aba-b6ed-485d-8f4e-cef25c210488",
   "metadata": {},
   "outputs": [],
   "source": [
    "def split_cold_prot(dataset,prot,percent=0.2):                          ### Cold split of proteins\n",
    "    num_prots = int(round(len(prot)*percent))\n",
    "    prots,_ = random_split(prot,[num_prots,len(prot)-num_prots])\n",
    "    train = []\n",
    "    test = []\n",
    "    for i in range(len(dataset)):\n",
    "        if  dataset.iloc[i]['accession'] in prots:\n",
    "            test.append(dataset.iloc[i])\n",
    "        else:\n",
    "            train.append(dataset.iloc[i])\n",
    "    return train, test"
   ]
  },
  {
   "cell_type": "code",
   "execution_count": 4,
   "id": "68c3e65e-2d34-4d0a-b756-494e5e01541b",
   "metadata": {},
   "outputs": [],
   "source": [
    "df = pd.DataFrame(alll)                    ### preparing the lists of unique drugs and proteins (+adding target and drug columns to the dataframe)\n",
    "def get_accession(name):\n",
    "    name = name.split('_')[0]\n",
    "    return name\n",
    "def get_smiles(name):\n",
    "    name = name.split('_')[1]\n",
    "    return name\n",
    "df['accession'] = df['ID'].apply(get_accession)\n",
    "df['drug'] = df['ID'].apply(get_smiles)\n",
    "prot = df['accession'].unique()\n",
    "drug = df['drug'].unique()"
   ]
  },
  {
   "cell_type": "code",
   "execution_count": 36,
   "id": "0f45fffe-c0e8-4e05-97c4-363e22eab397",
   "metadata": {},
   "outputs": [],
   "source": [
    "train, test = split_data(df,drug,prot)        # preforming the function"
   ]
  },
  {
   "cell_type": "code",
   "execution_count": 37,
   "id": "19d17d00-addc-425f-96ca-f2294c2143ec",
   "metadata": {},
   "outputs": [
    {
     "data": {
      "text/plain": [
       "0.2920839294229852"
      ]
     },
     "execution_count": 37,
     "metadata": {},
     "output_type": "execute_result"
    }
   ],
   "source": [
    "len(test)/(len(train)+len(test))          ### checking the propo"
   ]
  },
  {
   "cell_type": "code",
   "execution_count": 51,
   "id": "d0053882-c2fe-4641-80a8-ff0a816ae8ee",
   "metadata": {},
   "outputs": [],
   "source": [
    "final_list = open('train.pckl', 'wb')         # saving the first results of the split_data() function\n",
    "pickle.dump(train, final_list)\n",
    "final_list = open('test.pckl', 'wb') \n",
    "pickle.dump(test, final_list)"
   ]
  }
 ],
 "metadata": {
  "kernelspec": {
   "display_name": "Python 3",
   "language": "python",
   "name": "python3"
  },
  "language_info": {
   "codemirror_mode": {
    "name": "ipython",
    "version": 3
   },
   "file_extension": ".py",
   "mimetype": "text/x-python",
   "name": "python",
   "nbconvert_exporter": "python",
   "pygments_lexer": "ipython3",
   "version": "3.7.8"
  }
 },
 "nbformat": 4,
 "nbformat_minor": 5
}
