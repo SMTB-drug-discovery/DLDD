{
 "cells": [
  {
   "cell_type": "code",
   "execution_count": 1,
   "id": "56123f8c",
   "metadata": {
    "ExecuteTime": {
     "end_time": "2021-08-12T10:04:00.905224Z",
     "start_time": "2021-08-12T10:03:59.738191Z"
    }
   },
   "outputs": [],
   "source": [
    "from dldd import ClassificationModel\n",
    "from pytorch_lightning import Trainer\n",
    "from torch_geometric.data import DataLoader\n",
    "from dldd.utils import TwoGraphData\n",
    "import torch"
   ]
  },
  {
   "cell_type": "code",
   "execution_count": null,
   "id": "c0d30dfa",
   "metadata": {
    "ExecuteTime": {
     "end_time": "2021-08-12T10:04:01.556732Z",
     "start_time": "2021-08-12T10:04:01.553976Z"
    }
   },
   "outputs": [],
   "source": [
    "prot_graph = {'prot_x':torch.tensor([2,4,18], dtype=torch.long),\n",
    "            'prot_edge_index' : torch.tensor([[0,1,2,0], [1,0,0,2]], dtype=torch.long)}\n",
    "drug_graph = {'drug_x':torch.tensor([6,6], dtype=torch.long),\n",
    "            'drug_edge_index' : torch.tensor([[0,1], [1,0]], dtype=torch.long)}\n",
    "\n",
    "data = {}\n",
    "data.update(prot_graph)\n",
    "data.update(drug_graph)\n",
    "data.update({'label' : torch.tensor(1)})\n",
    "data = TwoGraphData(**data)"
   ]
  },
  {
   "cell_type": "code",
   "execution_count": null,
   "id": "e91e32a0",
   "metadata": {
    "ExecuteTime": {
     "end_time": "2021-08-12T10:04:02.212979Z",
     "start_time": "2021-08-12T10:04:02.210201Z"
    }
   },
   "outputs": [],
   "source": [
    "for k,v in data.__dict__.items():\n",
    "    if v is not None and k[0] != '_':\n",
    "        print(k)\n",
    "        print(v)"
   ]
  },
  {
   "cell_type": "markdown",
   "id": "f9504b4f",
   "metadata": {},
   "source": [
    "![graph](graph_figure.png)"
   ]
  },
  {
   "cell_type": "code",
   "execution_count": null,
   "id": "d9c61adb",
   "metadata": {
    "ExecuteTime": {
     "end_time": "2021-08-12T10:04:04.351775Z",
     "start_time": "2021-08-12T10:04:04.282337Z"
    }
   },
   "outputs": [],
   "source": [
    "# create DataLoader\n",
    "dl = DataLoader([data, data, data, data], batch_size=3, num_workers=1, follow_batch=['prot_x', 'drug_x'])\n",
    "\n",
    "batch = next(iter(dl))\n",
    "\n",
    "for k,v in batch.__dict__.items():\n",
    "    if v is not None and k[0] != '_':\n",
    "        print(k)\n",
    "        print(v)"
   ]
  },
  {
   "cell_type": "code",
   "execution_count": null,
   "id": "be2fce52",
   "metadata": {
    "ExecuteTime": {
     "end_time": "2021-08-12T10:04:05.527561Z",
     "start_time": "2021-08-12T10:04:05.522358Z"
    }
   },
   "outputs": [],
   "source": [
    "# create the model\n",
    "model = ClassificationModel()"
   ]
  },
  {
   "cell_type": "code",
   "execution_count": null,
   "id": "7075194e",
   "metadata": {
    "ExecuteTime": {
     "end_time": "2021-08-12T10:04:06.195048Z",
     "start_time": "2021-08-12T10:04:06.186242Z"
    }
   },
   "outputs": [],
   "source": [
    "# do a forward pass with your fake data\n",
    "model.forward(batch['prot_x'],\n",
    "              batch['drug_x'],\n",
    "              batch['prot_edge_index'],\n",
    "              batch['drug_edge_index'],\n",
    "              batch['prot_x_batch'],\n",
    "              batch['drug_x_batch'])"
   ]
  },
  {
   "cell_type": "code",
   "execution_count": null,
   "id": "0e522991",
   "metadata": {
    "ExecuteTime": {
     "end_time": "2021-08-12T10:04:09.329591Z",
     "start_time": "2021-08-12T10:04:07.130288Z"
    }
   },
   "outputs": [],
   "source": [
    "# train the model\n",
    "trainer = Trainer(max_epochs=20)\n",
    "trainer.fit(model, train_dataloader=dl)"
   ]
  },
  {
   "cell_type": "code",
   "execution_count": null,
   "id": "54a99fc2",
   "metadata": {
    "ExecuteTime": {
     "end_time": "2021-08-12T10:04:10.184699Z",
     "start_time": "2021-08-12T10:04:10.178778Z"
    }
   },
   "outputs": [],
   "source": [
    "## Model predicts things better\n",
    "model.forward(batch['prot_x'],\n",
    "              batch['drug_x'],\n",
    "              batch['prot_edge_index'],\n",
    "              batch['drug_edge_index'],\n",
    "              batch['prot_x_batch'],\n",
    "              batch['drug_x_batch'])"
   ]
  },
  {
   "cell_type": "code",
   "execution_count": null,
   "id": "8c9976b1",
   "metadata": {},
   "outputs": [],
   "source": []
  }
 ],
 "metadata": {
  "kernelspec": {
   "display_name": "Python 3",
   "language": "python",
   "name": "python3"
  },
  "language_info": {
   "codemirror_mode": {
    "name": "ipython",
    "version": 3
   },
   "file_extension": ".py",
   "mimetype": "text/x-python",
   "name": "python",
   "nbconvert_exporter": "python",
   "pygments_lexer": "ipython3",
   "version": "3.7.8"
  }
 },
 "nbformat": 4,
 "nbformat_minor": 5
}
