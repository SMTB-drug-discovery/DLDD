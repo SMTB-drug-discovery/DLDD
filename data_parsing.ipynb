{
 "cells": [
  {
   "cell_type": "code",
   "execution_count": null,
   "id": "97fc8ec4-88e8-47a5-829b-a01c309194cf",
   "metadata": {},
   "outputs": [],
   "source": [
    "import pandas as pd\n",
    "import plotly.express as px"
   ]
  },
  {
   "cell_type": "code",
   "execution_count": null,
   "id": "104e53f1-0323-42d1-abcd-7378b9d4491b",
   "metadata": {},
   "outputs": [],
   "source": [
    "df = pd.read_csv('/srv/scratch/ALL/DATA/NR-DBIND.csv', sep=';')"
   ]
  },
  {
   "cell_type": "code",
   "execution_count": null,
   "id": "8f923211-d68f-4656-9821-da9467526a9c",
   "metadata": {},
   "outputs": [],
   "source": [
    "df['ID'] = df['ID'].astype(int).astype(str)\n",
    "df = df[df['p_binding_type'].isin(['pIC50', 'pKi'])] ## We only want p_binding_type to be pIC50 and pKi\n",
    "df.head()"
   ]
  },
  {
   "cell_type": "code",
   "execution_count": null,
   "id": "b0a511f3-5a22-423b-a51c-1c1b117a80dc",
   "metadata": {},
   "outputs": [],
   "source": [
    "# only choose the necessary columns\n",
    "df = df[['ID', 'accession', 'smiles', 'CHEMBLID', 'p_binding_value']]\n",
    "df.head()"
   ]
  },
  {
   "cell_type": "code",
   "execution_count": null,
   "id": "768a33b6-06c7-4089-ad16-ea28bfb6e427",
   "metadata": {},
   "outputs": [],
   "source": [
    "## 1. group by accession + smiles - all rows with the same accession and smiles are put into a group\n",
    "## 2. aggregate with median - for each group take the median\n",
    "## 3. reset the index to normal numbering\n",
    "df = df.groupby(['accession', 'smiles']).agg('median').reset_index()\n",
    "df.head()"
   ]
  },
  {
   "cell_type": "code",
   "execution_count": null,
   "id": "9a46ddaa-4f2e-4902-9a41-ce22c8f03f18",
   "metadata": {},
   "outputs": [],
   "source": [
    "# only choose rows where p_binding_value is not NaN\n",
    "df = df[df['p_binding_value'].notna()]"
   ]
  },
  {
   "cell_type": "code",
   "execution_count": null,
   "id": "49255fd4-0220-45f5-b0d1-123dc5083c6f",
   "metadata": {},
   "outputs": [],
   "source": [
    "# save df to csv\n",
    "df.to_csv('parsed_data.csv', index=False)"
   ]
  },
  {
   "cell_type": "code",
   "execution_count": null,
   "id": "d9c320f6-495f-46c9-91cc-5c67e2fd5cd7",
   "metadata": {},
   "outputs": [],
   "source": [
    "px.bar(df['accession'].value_counts()) #bar plot of number of entries for each protein"
   ]
  },
  {
   "cell_type": "code",
   "execution_count": null,
   "id": "7677c25c",
   "metadata": {},
   "outputs": [],
   "source": [
    "## for each protein count number of times we see it and mean of binding value\n",
    "df['count'] = 1\n",
    "prot_count = df.groupby('accession').agg({'p_binding_value' : 'mean', 'count': 'sum'})\n",
    "## scatter plot of this data\n",
    "px.scatter(data_frame=prot_count, x='p_binding_value', y='count')"
   ]
  },
  {
   "cell_type": "code",
   "execution_count": null,
   "id": "b83d0f5b-73b0-4bdd-ad1c-38dda700a184",
   "metadata": {},
   "outputs": [],
   "source": [
    "px.histogram(df['p_binding_value'])"
   ]
  },
  {
   "cell_type": "code",
   "execution_count": null,
   "id": "d7f01662-f713-4ae9-935b-dcab183bcb6c",
   "metadata": {},
   "outputs": [],
   "source": []
  }
 ],
 "metadata": {
  "kernelspec": {
   "display_name": "Python 3",
   "language": "python",
   "name": "python3"
  },
  "language_info": {
   "codemirror_mode": {
    "name": "ipython",
    "version": 3
   },
   "file_extension": ".py",
   "mimetype": "text/x-python",
   "name": "python",
   "nbconvert_exporter": "python",
   "pygments_lexer": "ipython3",
   "version": "3.7.8"
  }
 },
 "nbformat": 4,
 "nbformat_minor": 5
}
