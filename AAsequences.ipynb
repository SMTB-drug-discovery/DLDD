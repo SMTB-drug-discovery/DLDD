{
 "cells": [
  {
   "cell_type": "code",
   "execution_count": null,
   "metadata": {},
   "outputs": [],
   "source": [
    "import pandas as pd\n",
    "df = pd.read_csv('parsed_data.csv')\n",
    "a = df['accession'].unique()\n",
    "for i in a:\n",
    "    print(i)    #### this prints out the name of each protein in a new line ===> input to uniprot \n",
    "    \n",
    "    \n",
    "######### after having gotten the fasta file from https://www.uniprot.org/uploadlists/   ===>\n",
    " \n",
    "    \n",
    "name = 'sequences.fasta' # I just named it that way\n",
    "\n",
    "def getSeq(filename):                 #### makes a dictionary of the ID of the protein ('accession') as key and the sequence as value\n",
    "    f = open(filename)\n",
    "    id2seq = {}\n",
    "    currkey = \"\"\n",
    "    for line in f:\n",
    "        if line.find(\">\") == 0:\n",
    "            currkey = (line[1:].split(\"|\")[1])\n",
    "            id2seq[currkey] = \"\"\n",
    "        else:            \n",
    "            id2seq[currkey] = id2seq[currkey] + line.rstrip()\n",
    "    f.close()\n",
    "    return id2seq \n",
    "dictionary = getSeq(name)\n",
    "\n",
    "df[\"AAsequence\"] = df['accession'].map(dictionary)\n",
    "df.to_csv('NEWDATASET.csv', index = 'false')"
   ]
  }
 ],
 "metadata": {
  "kernelspec": {
   "display_name": "Python 3",
   "language": "python",
   "name": "python3"
  },
  "language_info": {
   "codemirror_mode": {
    "name": "ipython",
    "version": 3
   },
   "file_extension": ".py",
   "mimetype": "text/x-python",
   "name": "python",
   "nbconvert_exporter": "python",
   "pygments_lexer": "ipython3",
   "version": "3.7.6"
  }
 },
 "nbformat": 4,
 "nbformat_minor": 4
}
