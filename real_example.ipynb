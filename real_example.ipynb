{
 "cells": [
  {
   "cell_type": "code",
   "execution_count": null,
   "id": "56123f8c",
   "metadata": {
    "ExecuteTime": {
     "end_time": "2021-08-12T10:04:00.905224Z",
     "start_time": "2021-08-12T10:03:59.738191Z"
    }
   },
   "outputs": [],
   "source": [
    "from dldd import ClassificationModel\n",
    "from pytorch_lightning import Trainer\n",
    "from torch_geometric.data import DataLoader\n",
    "from dldd.utils import TwoGraphData\n",
    "import torch\n",
    "import pickle"
   ]
  },
  {
   "cell_type": "code",
   "execution_count": null,
   "id": "12a911b0-e723-421d-ad97-c314e0d8e1fe",
   "metadata": {},
   "outputs": [],
   "source": [
    "with open('data/train.pkl', 'rb') as file:\n",
    "    train = pickle.load(file)\n",
    "with open('data/val.pkl', 'rb') as file:\n",
    "    val = pickle.load(file)\n",
    "with open('data/test.pkl', 'rb') as file:\n",
    "    test = pickle.load(file)"
   ]
  },
  {
   "cell_type": "code",
   "execution_count": null,
   "id": "d9c61adb",
   "metadata": {
    "ExecuteTime": {
     "end_time": "2021-08-12T10:04:04.351775Z",
     "start_time": "2021-08-12T10:04:04.282337Z"
    }
   },
   "outputs": [],
   "source": [
    "# create DataLoader\n",
    "train_dl = DataLoader(train,\n",
    "                batch_size=256,\n",
    "                num_workers=4,\n",
    "                follow_batch=['protein_x', 'drug_x'],\n",
    "                shuffle=True)\n",
    "val_dl = DataLoader(val,\n",
    "                batch_size=256,\n",
    "                num_workers=4,\n",
    "                follow_batch=['protein_x', 'drug_x'],\n",
    "                shuffle=True)\n",
    "test_dl = DataLoader(test,\n",
    "                batch_size=256,\n",
    "                num_workers=4,\n",
    "                follow_batch=['protein_x', 'drug_x'],\n",
    "                    shuffle=True)"
   ]
  },
  {
   "cell_type": "code",
   "execution_count": null,
   "id": "936b6079-7012-4f2b-bdab-44910bdc4588",
   "metadata": {
    "ExecuteTime": {
     "end_time": "2021-08-12T10:04:05.527561Z",
     "start_time": "2021-08-12T10:04:05.522358Z"
    },
    "scrolled": true
   },
   "outputs": [],
   "source": [
    "# create the model\n",
    "model = ClassificationModel()\n",
    "\n",
    "# train the model\n",
    "trainer = Trainer(gpus=1, max_epochs=100, log_every_n_steps=10)\n",
    "trainer.fit(model, train_dataloaders=train_dl, val_dataloaders=val_dl)\n",
    "trainer.test(model, test_dataloaders=test_dl)"
   ]
  },
  {
   "cell_type": "code",
   "execution_count": null,
   "id": "cbef374d-8934-45bf-b85e-e51b3f21871a",
   "metadata": {},
   "outputs": [],
   "source": []
  }
 ],
 "metadata": {
  "kernelspec": {
   "display_name": "Python 3",
   "language": "python",
   "name": "python3"
  },
  "language_info": {
   "codemirror_mode": {
    "name": "ipython",
    "version": 3
   },
   "file_extension": ".py",
   "mimetype": "text/x-python",
   "name": "python",
   "nbconvert_exporter": "python",
   "pygments_lexer": "ipython3",
   "version": "3.7.8"
  }
 },
 "nbformat": 4,
 "nbformat_minor": 5
}
