{
 "cells": [
  {
   "cell_type": "code",
   "execution_count": null,
   "id": "56123f8c",
   "metadata": {
    "ExecuteTime": {
     "end_time": "2021-08-12T10:04:00.905224Z",
     "start_time": "2021-08-12T10:03:59.738191Z"
    }
   },
   "outputs": [],
   "source": [
    "from dldd import ClassificationModel\n",
    "from pytorch_lightning import Trainer\n",
    "from torch_geometric.data import DataLoader\n",
    "from dldd.utils import TwoGraphData\n",
    "import torch\n",
    "import pickle\n",
    "from pytorch_lightning.callbacks import ModelCheckpoint, EarlyStopping\n",
    "from pytorch_lightning.loggers import CSVLogger"
   ]
  },
  {
   "cell_type": "code",
   "execution_count": null,
   "id": "12a911b0-e723-421d-ad97-c314e0d8e1fe",
   "metadata": {},
   "outputs": [],
   "source": [
    "## Load the data\n",
    "with open('data/train.pkl', 'rb') as file:\n",
    "    train = pickle.load(file)\n",
    "with open('data/val.pkl', 'rb') as file:\n",
    "    val = pickle.load(file)\n",
    "with open('data/test.pkl', 'rb') as file:\n",
    "    test = pickle.load(file)"
   ]
  },
  {
   "cell_type": "code",
   "execution_count": null,
   "id": "d9c61adb",
   "metadata": {
    "ExecuteTime": {
     "end_time": "2021-08-12T10:04:04.351775Z",
     "start_time": "2021-08-12T10:04:04.282337Z"
    }
   },
   "outputs": [],
   "source": [
    "# create DataLoaders\n",
    "BATCH_SIZE = 128\n",
    "NUM_WORKERS = 1\n",
    "FOLLOW_BATCH = ['protein_x', 'drug_x']\n",
    "SHUFFLE = True\n",
    "train_dl = DataLoader(train,\n",
    "                batch_size=BATCH_SIZE,\n",
    "                num_workers=NUM_WORKERS,\n",
    "                follow_batch=FOLLOW_BATCH,\n",
    "                shuffle=SHUFFLE)\n",
    "val_dl = DataLoader(val,\n",
    "                batch_size=BATCH_SIZE,\n",
    "                num_workers=NUM_WORKERS,\n",
    "                follow_batch=FOLLOW_BATCH,\n",
    "                shuffle=SHUFFLE)\n",
    "test_dl = DataLoader(test,\n",
    "                batch_size=BATCH_SIZE,\n",
    "                num_workers=NUM_WORKERS,\n",
    "                follow_batch=FOLLOW_BATCH,\n",
    "                shuffle=SHUFFLE)"
   ]
  },
  {
   "cell_type": "code",
   "execution_count": null,
   "id": "33423f5c-898b-44f2-baac-4a303a0bb929",
   "metadata": {
    "ExecuteTime": {
     "end_time": "2021-08-12T10:04:05.527561Z",
     "start_time": "2021-08-12T10:04:05.522358Z"
    },
    "scrolled": true
   },
   "outputs": [],
   "source": [
    "EARLY_STOP_PATIENCE = 30 # How long to wait without improvement before killing the process\n",
    "GRADIENT_CLIP_VAL = 20 # Gradient clipping prevents weights from becoming too big\n",
    "model = ClassificationModel()\n",
    "## You can change the name of the logger, then it will be in a different directory\n",
    "logger = CSVLogger(\"logs\", name=\"cold_target\")\n",
    "callbacks = [\n",
    "    ModelCheckpoint(monitor=\"val_loss\", save_top_k=3, mode=\"min\"), ## Save 3 best models (lowest val loss)\n",
    "    EarlyStopping(monitor=\"val_loss\", patience=EARLY_STOP_PATIENCE, mode=\"min\"), ## if val loss doesn't decrease for EARLY_STOP_PATIENCE epochs - stop training\n",
    "]\n",
    "trainer = Trainer(\n",
    "    gpus=1,\n",
    "    callbacks=callbacks,\n",
    "    logger=logger,\n",
    "    gradient_clip_val=GRADIENT_CLIP_VAL,\n",
    "    stochastic_weight_avg=True,\n",
    "    num_sanity_val_steps=0,\n",
    ")"
   ]
  },
  {
   "cell_type": "code",
   "execution_count": null,
   "id": "32d93875-3617-4e74-9419-ecdc346508d7",
   "metadata": {
    "ExecuteTime": {
     "end_time": "2021-08-12T10:04:05.527561Z",
     "start_time": "2021-08-12T10:04:05.522358Z"
    },
    "scrolled": true
   },
   "outputs": [],
   "source": [
    "## The loss is not printed out anymore, but now you can view it in the logs_parsing.ipynb\n",
    "trainer.fit(model, train_dataloaders=train_dl, val_dataloaders=val_dl)\n",
    "trainer.test(model, test_dataloaders=test_dl)"
   ]
  },
  {
   "cell_type": "code",
   "execution_count": null,
   "id": "c15f7419-fd49-4eb4-b9b0-d3ab5b045f49",
   "metadata": {},
   "outputs": [],
   "source": []
  }
 ],
 "metadata": {
  "kernelspec": {
   "display_name": "Python 3",
   "language": "python",
   "name": "python3"
  },
  "language_info": {
   "codemirror_mode": {
    "name": "ipython",
    "version": 3
   },
   "file_extension": ".py",
   "mimetype": "text/x-python",
   "name": "python",
   "nbconvert_exporter": "python",
   "pygments_lexer": "ipython3",
   "version": "3.7.8"
  }
 },
 "nbformat": 4,
 "nbformat_minor": 5
}
