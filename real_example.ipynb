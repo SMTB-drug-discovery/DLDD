{
 "cells": [
  {
   "cell_type": "code",
   "execution_count": 1,
   "id": "56123f8c",
   "metadata": {
    "ExecuteTime": {
     "end_time": "2021-08-12T10:04:00.905224Z",
     "start_time": "2021-08-12T10:03:59.738191Z"
    }
   },
   "outputs": [],
   "source": [
    "from dldd import ClassificationModel\n",
    "from pytorch_lightning import Trainer\n",
    "from torch_geometric.data import DataLoader\n",
    "from dldd.utils import TwoGraphData\n",
    "import torch\n",
    "import pickle\n",
    "from torch.utils.data import random_split"
   ]
  },
  {
   "cell_type": "code",
   "execution_count": 2,
   "id": "ca8a888b-2f6a-4b93-80f1-6870442e2b7d",
   "metadata": {},
   "outputs": [],
   "source": [
    "def split_data_random(dataset:list,train_percentage:float = 0.7, validation_percentage:float = 0.2):\n",
    "    train = int(len(dataset)*train_percentage)\n",
    "    validation = int(len(dataset)*validation_percentage)\n",
    "    test = int(len(dataset) - train - validation)\n",
    "    return random_split(dataset,[train,validation,test])\n",
    "\n",
    "def convert_to_class(data:TwoGraphData, threshold:int=6):\n",
    "    data['label'] = torch.tensor(1, dtype=torch.long) if data['label'] < threshold else torch.tensor(0, dtype=torch.long)\n",
    "    return data"
   ]
  },
  {
   "cell_type": "code",
   "execution_count": 3,
   "id": "12a911b0-e723-421d-ad97-c314e0d8e1fe",
   "metadata": {},
   "outputs": [],
   "source": [
    "with open('final_list.pkl', 'rb') as file:\n",
    "    data_list = pickle.load(file)"
   ]
  },
  {
   "cell_type": "code",
   "execution_count": 4,
   "id": "942f6df4-928d-4c07-bc6d-17fc6acc59b1",
   "metadata": {},
   "outputs": [],
   "source": [
    "data_list = [TwoGraphData(**convert_to_class(x)) for x in data_list]"
   ]
  },
  {
   "cell_type": "code",
   "execution_count": 5,
   "id": "bd7149d0-8521-4656-8c61-b5ed564ce7be",
   "metadata": {},
   "outputs": [],
   "source": [
    "train, val, test = split_data_random(data_list)"
   ]
  },
  {
   "cell_type": "code",
   "execution_count": 8,
   "id": "d9c61adb",
   "metadata": {
    "ExecuteTime": {
     "end_time": "2021-08-12T10:04:04.351775Z",
     "start_time": "2021-08-12T10:04:04.282337Z"
    }
   },
   "outputs": [],
   "source": [
    "# create DataLoader\n",
    "train_dl = DataLoader(train,\n",
    "                batch_size=256,\n",
    "                num_workers=4,\n",
    "                follow_batch=['protein_x', 'drug_x'])\n",
    "val_dl = DataLoader(val,\n",
    "                batch_size=256,\n",
    "                num_workers=4,\n",
    "                follow_batch=['protein_x', 'drug_x'])\n",
    "test_dl = DataLoader(test,\n",
    "                batch_size=256,\n",
    "                num_workers=4,\n",
    "                follow_batch=['protein_x', 'drug_x'])"
   ]
  },
  {
   "cell_type": "code",
   "execution_count": 9,
   "id": "936b6079-7012-4f2b-bdab-44910bdc4588",
   "metadata": {
    "ExecuteTime": {
     "end_time": "2021-08-12T10:04:05.527561Z",
     "start_time": "2021-08-12T10:04:05.522358Z"
    }
   },
   "outputs": [
    {
     "name": "stderr",
     "output_type": "stream",
     "text": [
      "GPU available: True, used: True\n",
      "TPU available: False, using: 0 TPU cores\n",
      "IPU available: False, using: 0 IPUs\n",
      "LOCAL_RANK: 0 - CUDA_VISIBLE_DEVICES: [0]\n",
      "\n",
      "  | Name            | Type       | Params\n",
      "-----------------------------------------------\n",
      "0 | prot_feat_embed | Embedding  | 1.3 K \n",
      "1 | drug_feat_embed | Embedding  | 7.6 K \n",
      "2 | prot_node_embed | GINConvNet | 25.3 K\n",
      "3 | drug_node_embed | GINConvNet | 25.3 K\n",
      "4 | mlp             | MLP        | 8.3 K \n",
      "-----------------------------------------------\n",
      "67.9 K    Trainable params\n",
      "0         Non-trainable params\n",
      "67.9 K    Total params\n",
      "0.272     Total estimated model params size (MB)\n"
     ]
    },
    {
     "data": {
      "application/vnd.jupyter.widget-view+json": {
       "model_id": "",
       "version_major": 2,
       "version_minor": 0
      },
      "text/plain": [
       "Validation sanity check: 0it [00:00, ?it/s]"
      ]
     },
     "metadata": {},
     "output_type": "display_data"
    },
    {
     "name": "stdout",
     "output_type": "stream",
     "text": [
      "loss tensor(2.7602, device='cuda:0')\n",
      "acc tensor(0.2910, device='cuda:0')\n",
      "auroc tensor(0.5548, device='cuda:0')\n"
     ]
    },
    {
     "name": "stderr",
     "output_type": "stream",
     "text": [
      "/opt/tljh/user/lib/python3.7/site-packages/pytorch_lightning/trainer/data_loading.py:323: UserWarning: The number of training samples (35) is smaller than the logging interval Trainer(log_every_n_steps=50). Set a lower value for log_every_n_steps if you want to see logs for the training epoch.\n",
      "  f\"The number of training samples ({self.num_training_batches}) is smaller than the logging interval\"\n"
     ]
    },
    {
     "data": {
      "application/vnd.jupyter.widget-view+json": {
       "model_id": "fcb2b0e826a7452ca2b70b9b19ef9286",
       "version_major": 2,
       "version_minor": 0
      },
      "text/plain": [
       "Training: -1it [00:00, ?it/s]"
      ]
     },
     "metadata": {},
     "output_type": "display_data"
    },
    {
     "data": {
      "application/vnd.jupyter.widget-view+json": {
       "model_id": "",
       "version_major": 2,
       "version_minor": 0
      },
      "text/plain": [
       "Validating: 0it [00:00, ?it/s]"
      ]
     },
     "metadata": {},
     "output_type": "display_data"
    },
    {
     "name": "stdout",
     "output_type": "stream",
     "text": [
      "loss tensor(0.5747, device='cuda:0')\n",
      "acc tensor(0.7082, device='cuda:0')\n",
      "auroc tensor(0.6924, device='cuda:0')\n",
      "loss tensor(0.6088, device='cuda:0')\n",
      "acc tensor(0.6946, device='cuda:0')\n",
      "auroc tensor(0.6387, device='cuda:0')\n"
     ]
    },
    {
     "data": {
      "application/vnd.jupyter.widget-view+json": {
       "model_id": "",
       "version_major": 2,
       "version_minor": 0
      },
      "text/plain": [
       "Validating: 0it [00:00, ?it/s]"
      ]
     },
     "metadata": {},
     "output_type": "display_data"
    },
    {
     "name": "stdout",
     "output_type": "stream",
     "text": [
      "loss tensor(0.5476, device='cuda:0')\n",
      "acc tensor(0.7241, device='cuda:0')\n",
      "auroc tensor(0.7060, device='cuda:0')\n",
      "loss tensor(0.5668, device='cuda:0')\n",
      "acc tensor(0.7089, device='cuda:0')\n",
      "auroc tensor(0.6996, device='cuda:0')\n"
     ]
    },
    {
     "data": {
      "application/vnd.jupyter.widget-view+json": {
       "model_id": "",
       "version_major": 2,
       "version_minor": 0
      },
      "text/plain": [
       "Validating: 0it [00:00, ?it/s]"
      ]
     },
     "metadata": {},
     "output_type": "display_data"
    },
    {
     "name": "stdout",
     "output_type": "stream",
     "text": [
      "loss tensor(0.5531, device='cuda:0')\n",
      "acc tensor(0.7186, device='cuda:0')\n",
      "auroc tensor(0.7042, device='cuda:0')\n",
      "loss tensor(0.5565, device='cuda:0')\n",
      "acc tensor(0.7156, device='cuda:0')\n",
      "auroc tensor(0.7164, device='cuda:0')\n"
     ]
    },
    {
     "data": {
      "application/vnd.jupyter.widget-view+json": {
       "model_id": "",
       "version_major": 2,
       "version_minor": 0
      },
      "text/plain": [
       "Validating: 0it [00:00, ?it/s]"
      ]
     },
     "metadata": {},
     "output_type": "display_data"
    },
    {
     "name": "stdout",
     "output_type": "stream",
     "text": [
      "loss tensor(0.5584, device='cuda:0')\n",
      "acc tensor(0.7219, device='cuda:0')\n",
      "auroc tensor(0.7136, device='cuda:0')\n",
      "loss tensor(0.5475, device='cuda:0')\n",
      "acc tensor(0.7267, device='cuda:0')\n",
      "auroc tensor(0.7281, device='cuda:0')\n"
     ]
    },
    {
     "data": {
      "application/vnd.jupyter.widget-view+json": {
       "model_id": "",
       "version_major": 2,
       "version_minor": 0
      },
      "text/plain": [
       "Validating: 0it [00:00, ?it/s]"
      ]
     },
     "metadata": {},
     "output_type": "display_data"
    },
    {
     "name": "stdout",
     "output_type": "stream",
     "text": [
      "loss tensor(0.7867, device='cuda:0')\n",
      "acc tensor(0.7061, device='cuda:0')\n",
      "auroc tensor(0.6055, device='cuda:0')\n",
      "loss tensor(0.5391, device='cuda:0')\n",
      "acc tensor(0.7320, device='cuda:0')\n",
      "auroc tensor(0.7393, device='cuda:0')\n"
     ]
    },
    {
     "data": {
      "application/vnd.jupyter.widget-view+json": {
       "model_id": "",
       "version_major": 2,
       "version_minor": 0
      },
      "text/plain": [
       "Validating: 0it [00:00, ?it/s]"
      ]
     },
     "metadata": {},
     "output_type": "display_data"
    },
    {
     "name": "stdout",
     "output_type": "stream",
     "text": [
      "loss tensor(0.7231, device='cuda:0')\n",
      "acc tensor(0.5360, device='cuda:0')\n",
      "auroc tensor(0.6132, device='cuda:0')\n",
      "loss tensor(0.5328, device='cuda:0')\n",
      "acc tensor(0.7372, device='cuda:0')\n",
      "auroc tensor(0.7466, device='cuda:0')\n"
     ]
    },
    {
     "data": {
      "application/vnd.jupyter.widget-view+json": {
       "model_id": "",
       "version_major": 2,
       "version_minor": 0
      },
      "text/plain": [
       "Validating: 0it [00:00, ?it/s]"
      ]
     },
     "metadata": {},
     "output_type": "display_data"
    },
    {
     "name": "stdout",
     "output_type": "stream",
     "text": [
      "loss tensor(0.5881, device='cuda:0')\n",
      "acc tensor(0.7295, device='cuda:0')\n",
      "auroc tensor(0.6990, device='cuda:0')\n",
      "loss tensor(0.5267, device='cuda:0')\n",
      "acc tensor(0.7394, device='cuda:0')\n",
      "auroc tensor(0.7534, device='cuda:0')\n"
     ]
    },
    {
     "data": {
      "application/vnd.jupyter.widget-view+json": {
       "model_id": "",
       "version_major": 2,
       "version_minor": 0
      },
      "text/plain": [
       "Validating: 0it [00:00, ?it/s]"
      ]
     },
     "metadata": {},
     "output_type": "display_data"
    },
    {
     "name": "stdout",
     "output_type": "stream",
     "text": [
      "loss tensor(0.6643, device='cuda:0')\n",
      "acc tensor(0.7184, device='cuda:0')\n",
      "auroc tensor(0.6792, device='cuda:0')\n",
      "loss tensor(0.5243, device='cuda:0')\n",
      "acc tensor(0.7394, device='cuda:0')\n",
      "auroc tensor(0.7571, device='cuda:0')\n"
     ]
    },
    {
     "data": {
      "application/vnd.jupyter.widget-view+json": {
       "model_id": "",
       "version_major": 2,
       "version_minor": 0
      },
      "text/plain": [
       "Validating: 0it [00:00, ?it/s]"
      ]
     },
     "metadata": {},
     "output_type": "display_data"
    },
    {
     "name": "stdout",
     "output_type": "stream",
     "text": [
      "loss tensor(0.8480, device='cuda:0')\n",
      "acc tensor(0.7133, device='cuda:0')\n",
      "auroc tensor(0.6310, device='cuda:0')\n",
      "loss tensor(0.5192, device='cuda:0')\n",
      "acc tensor(0.7428, device='cuda:0')\n",
      "auroc tensor(0.7629, device='cuda:0')\n"
     ]
    },
    {
     "data": {
      "application/vnd.jupyter.widget-view+json": {
       "model_id": "",
       "version_major": 2,
       "version_minor": 0
      },
      "text/plain": [
       "Validating: 0it [00:00, ?it/s]"
      ]
     },
     "metadata": {},
     "output_type": "display_data"
    },
    {
     "name": "stdout",
     "output_type": "stream",
     "text": [
      "loss tensor(0.5882, device='cuda:0')\n",
      "acc tensor(0.7290, device='cuda:0')\n",
      "auroc tensor(0.6919, device='cuda:0')\n",
      "loss tensor(0.5164, device='cuda:0')\n",
      "acc tensor(0.7425, device='cuda:0')\n",
      "auroc tensor(0.7641, device='cuda:0')\n"
     ]
    },
    {
     "data": {
      "application/vnd.jupyter.widget-view+json": {
       "model_id": "",
       "version_major": 2,
       "version_minor": 0
      },
      "text/plain": [
       "Validating: 0it [00:00, ?it/s]"
      ]
     },
     "metadata": {},
     "output_type": "display_data"
    },
    {
     "name": "stdout",
     "output_type": "stream",
     "text": [
      "loss tensor(0.5232, device='cuda:0')\n",
      "acc tensor(0.7367, device='cuda:0')\n",
      "auroc tensor(0.7434, device='cuda:0')\n",
      "loss tensor(0.5130, device='cuda:0')\n",
      "acc tensor(0.7445, device='cuda:0')\n",
      "auroc tensor(0.7702, device='cuda:0')\n"
     ]
    },
    {
     "data": {
      "application/vnd.jupyter.widget-view+json": {
       "model_id": "",
       "version_major": 2,
       "version_minor": 0
      },
      "text/plain": [
       "Validating: 0it [00:00, ?it/s]"
      ]
     },
     "metadata": {},
     "output_type": "display_data"
    },
    {
     "name": "stdout",
     "output_type": "stream",
     "text": [
      "loss tensor(0.5472, device='cuda:0')\n",
      "acc tensor(0.7203, device='cuda:0')\n",
      "auroc tensor(0.7259, device='cuda:0')\n",
      "loss tensor(0.5103, device='cuda:0')\n",
      "acc tensor(0.7448, device='cuda:0')\n",
      "auroc tensor(0.7740, device='cuda:0')\n"
     ]
    },
    {
     "data": {
      "application/vnd.jupyter.widget-view+json": {
       "model_id": "",
       "version_major": 2,
       "version_minor": 0
      },
      "text/plain": [
       "Validating: 0it [00:00, ?it/s]"
      ]
     },
     "metadata": {},
     "output_type": "display_data"
    },
    {
     "name": "stdout",
     "output_type": "stream",
     "text": [
      "loss tensor(0.5176, device='cuda:0')\n",
      "acc tensor(0.7464, device='cuda:0')\n",
      "auroc tensor(0.7507, device='cuda:0')\n",
      "loss tensor(0.5063, device='cuda:0')\n",
      "acc tensor(0.7504, device='cuda:0')\n",
      "auroc tensor(0.7776, device='cuda:0')\n"
     ]
    },
    {
     "data": {
      "application/vnd.jupyter.widget-view+json": {
       "model_id": "",
       "version_major": 2,
       "version_minor": 0
      },
      "text/plain": [
       "Validating: 0it [00:00, ?it/s]"
      ]
     },
     "metadata": {},
     "output_type": "display_data"
    },
    {
     "name": "stdout",
     "output_type": "stream",
     "text": [
      "loss tensor(0.6506, device='cuda:0')\n",
      "acc tensor(0.7293, device='cuda:0')\n",
      "auroc tensor(0.6836, device='cuda:0')\n",
      "loss tensor(0.5039, device='cuda:0')\n",
      "acc tensor(0.7513, device='cuda:0')\n",
      "auroc tensor(0.7815, device='cuda:0')\n"
     ]
    },
    {
     "data": {
      "application/vnd.jupyter.widget-view+json": {
       "model_id": "",
       "version_major": 2,
       "version_minor": 0
      },
      "text/plain": [
       "Validating: 0it [00:00, ?it/s]"
      ]
     },
     "metadata": {},
     "output_type": "display_data"
    },
    {
     "name": "stdout",
     "output_type": "stream",
     "text": [
      "loss tensor(0.5943, device='cuda:0')\n",
      "acc tensor(0.7226, device='cuda:0')\n",
      "auroc tensor(0.6995, device='cuda:0')\n",
      "loss tensor(0.4999, device='cuda:0')\n",
      "acc tensor(0.7546, device='cuda:0')\n",
      "auroc tensor(0.7849, device='cuda:0')\n"
     ]
    },
    {
     "data": {
      "application/vnd.jupyter.widget-view+json": {
       "model_id": "",
       "version_major": 2,
       "version_minor": 0
      },
      "text/plain": [
       "Validating: 0it [00:00, ?it/s]"
      ]
     },
     "metadata": {},
     "output_type": "display_data"
    },
    {
     "name": "stdout",
     "output_type": "stream",
     "text": [
      "loss tensor(0.6572, device='cuda:0')\n",
      "acc tensor(0.7255, device='cuda:0')\n",
      "auroc tensor(0.6807, device='cuda:0')\n",
      "loss tensor(0.4962, device='cuda:0')\n",
      "acc tensor(0.7569, device='cuda:0')\n",
      "auroc tensor(0.7901, device='cuda:0')\n"
     ]
    },
    {
     "data": {
      "application/vnd.jupyter.widget-view+json": {
       "model_id": "",
       "version_major": 2,
       "version_minor": 0
      },
      "text/plain": [
       "Validating: 0it [00:00, ?it/s]"
      ]
     },
     "metadata": {},
     "output_type": "display_data"
    },
    {
     "name": "stdout",
     "output_type": "stream",
     "text": [
      "loss tensor(0.6646, device='cuda:0')\n",
      "acc tensor(0.7340, device='cuda:0')\n",
      "auroc tensor(0.6711, device='cuda:0')\n",
      "loss tensor(0.4962, device='cuda:0')\n",
      "acc tensor(0.7542, device='cuda:0')\n",
      "auroc tensor(0.7908, device='cuda:0')\n"
     ]
    },
    {
     "data": {
      "application/vnd.jupyter.widget-view+json": {
       "model_id": "",
       "version_major": 2,
       "version_minor": 0
      },
      "text/plain": [
       "Validating: 0it [00:00, ?it/s]"
      ]
     },
     "metadata": {},
     "output_type": "display_data"
    },
    {
     "name": "stdout",
     "output_type": "stream",
     "text": [
      "loss tensor(0.6045, device='cuda:0')\n",
      "acc tensor(0.7340, device='cuda:0')\n",
      "auroc tensor(0.6908, device='cuda:0')\n",
      "loss tensor(0.4927, device='cuda:0')\n",
      "acc tensor(0.7590, device='cuda:0')\n",
      "auroc tensor(0.7919, device='cuda:0')\n"
     ]
    },
    {
     "data": {
      "application/vnd.jupyter.widget-view+json": {
       "model_id": "",
       "version_major": 2,
       "version_minor": 0
      },
      "text/plain": [
       "Validating: 0it [00:00, ?it/s]"
      ]
     },
     "metadata": {},
     "output_type": "display_data"
    },
    {
     "name": "stdout",
     "output_type": "stream",
     "text": [
      "loss tensor(0.5851, device='cuda:0')\n",
      "acc tensor(0.7376, device='cuda:0')\n",
      "auroc tensor(0.6867, device='cuda:0')\n",
      "loss tensor(0.4877, device='cuda:0')\n",
      "acc tensor(0.7601, device='cuda:0')\n",
      "auroc tensor(0.7981, device='cuda:0')\n"
     ]
    },
    {
     "data": {
      "application/vnd.jupyter.widget-view+json": {
       "model_id": "",
       "version_major": 2,
       "version_minor": 0
      },
      "text/plain": [
       "Validating: 0it [00:00, ?it/s]"
      ]
     },
     "metadata": {},
     "output_type": "display_data"
    },
    {
     "name": "stdout",
     "output_type": "stream",
     "text": [
      "loss tensor(0.6747, device='cuda:0')\n",
      "acc tensor(0.7379, device='cuda:0')\n",
      "auroc tensor(0.6716, device='cuda:0')\n",
      "loss tensor(0.4862, device='cuda:0')\n",
      "acc tensor(0.7633, device='cuda:0')\n",
      "auroc tensor(0.7992, device='cuda:0')\n"
     ]
    },
    {
     "data": {
      "application/vnd.jupyter.widget-view+json": {
       "model_id": "",
       "version_major": 2,
       "version_minor": 0
      },
      "text/plain": [
       "Validating: 0it [00:00, ?it/s]"
      ]
     },
     "metadata": {},
     "output_type": "display_data"
    },
    {
     "name": "stdout",
     "output_type": "stream",
     "text": [
      "loss tensor(0.6500, device='cuda:0')\n",
      "acc tensor(0.7412, device='cuda:0')\n",
      "auroc tensor(0.6845, device='cuda:0')\n",
      "loss tensor(0.4854, device='cuda:0')\n",
      "acc tensor(0.7646, device='cuda:0')\n",
      "auroc tensor(0.8021, device='cuda:0')\n"
     ]
    },
    {
     "data": {
      "application/vnd.jupyter.widget-view+json": {
       "model_id": "",
       "version_major": 2,
       "version_minor": 0
      },
      "text/plain": [
       "Validating: 0it [00:00, ?it/s]"
      ]
     },
     "metadata": {},
     "output_type": "display_data"
    },
    {
     "name": "stdout",
     "output_type": "stream",
     "text": [
      "loss tensor(0.4999, device='cuda:0')\n",
      "acc tensor(0.7602, device='cuda:0')\n",
      "auroc tensor(0.7785, device='cuda:0')\n",
      "loss tensor(0.4820, device='cuda:0')\n",
      "acc tensor(0.7666, device='cuda:0')\n",
      "auroc tensor(0.8046, device='cuda:0')\n"
     ]
    },
    {
     "data": {
      "application/vnd.jupyter.widget-view+json": {
       "model_id": "",
       "version_major": 2,
       "version_minor": 0
      },
      "text/plain": [
       "Validating: 0it [00:00, ?it/s]"
      ]
     },
     "metadata": {},
     "output_type": "display_data"
    },
    {
     "name": "stdout",
     "output_type": "stream",
     "text": [
      "loss tensor(0.5915, device='cuda:0')\n",
      "acc tensor(0.7480, device='cuda:0')\n",
      "auroc tensor(0.7084, device='cuda:0')\n",
      "loss tensor(0.4808, device='cuda:0')\n",
      "acc tensor(0.7654, device='cuda:0')\n",
      "auroc tensor(0.8065, device='cuda:0')\n"
     ]
    },
    {
     "data": {
      "application/vnd.jupyter.widget-view+json": {
       "model_id": "",
       "version_major": 2,
       "version_minor": 0
      },
      "text/plain": [
       "Validating: 0it [00:00, ?it/s]"
      ]
     },
     "metadata": {},
     "output_type": "display_data"
    },
    {
     "name": "stdout",
     "output_type": "stream",
     "text": [
      "loss tensor(0.5235, device='cuda:0')\n",
      "acc tensor(0.7545, device='cuda:0')\n",
      "auroc tensor(0.7506, device='cuda:0')\n",
      "loss tensor(0.4792, device='cuda:0')\n",
      "acc tensor(0.7654, device='cuda:0')\n",
      "auroc tensor(0.8081, device='cuda:0')\n"
     ]
    },
    {
     "data": {
      "application/vnd.jupyter.widget-view+json": {
       "model_id": "",
       "version_major": 2,
       "version_minor": 0
      },
      "text/plain": [
       "Validating: 0it [00:00, ?it/s]"
      ]
     },
     "metadata": {},
     "output_type": "display_data"
    },
    {
     "name": "stdout",
     "output_type": "stream",
     "text": [
      "loss tensor(0.5027, device='cuda:0')\n",
      "acc tensor(0.7487, device='cuda:0')\n",
      "auroc tensor(0.7764, device='cuda:0')\n",
      "loss tensor(0.4781, device='cuda:0')\n",
      "acc tensor(0.7725, device='cuda:0')\n",
      "auroc tensor(0.8090, device='cuda:0')\n"
     ]
    },
    {
     "data": {
      "application/vnd.jupyter.widget-view+json": {
       "model_id": "",
       "version_major": 2,
       "version_minor": 0
      },
      "text/plain": [
       "Validating: 0it [00:00, ?it/s]"
      ]
     },
     "metadata": {},
     "output_type": "display_data"
    },
    {
     "name": "stdout",
     "output_type": "stream",
     "text": [
      "loss tensor(0.5461, device='cuda:0')\n",
      "acc tensor(0.7524, device='cuda:0')\n",
      "auroc tensor(0.7328, device='cuda:0')\n",
      "loss tensor(0.4742, device='cuda:0')\n",
      "acc tensor(0.7740, device='cuda:0')\n",
      "auroc tensor(0.8131, device='cuda:0')\n"
     ]
    },
    {
     "data": {
      "application/vnd.jupyter.widget-view+json": {
       "model_id": "",
       "version_major": 2,
       "version_minor": 0
      },
      "text/plain": [
       "Validating: 0it [00:00, ?it/s]"
      ]
     },
     "metadata": {},
     "output_type": "display_data"
    },
    {
     "name": "stdout",
     "output_type": "stream",
     "text": [
      "loss tensor(0.5566, device='cuda:0')\n",
      "acc tensor(0.7427, device='cuda:0')\n",
      "auroc tensor(0.7214, device='cuda:0')\n",
      "loss tensor(0.4738, device='cuda:0')\n",
      "acc tensor(0.7740, device='cuda:0')\n",
      "auroc tensor(0.8135, device='cuda:0')\n"
     ]
    },
    {
     "data": {
      "application/vnd.jupyter.widget-view+json": {
       "model_id": "",
       "version_major": 2,
       "version_minor": 0
      },
      "text/plain": [
       "Validating: 0it [00:00, ?it/s]"
      ]
     },
     "metadata": {},
     "output_type": "display_data"
    },
    {
     "name": "stdout",
     "output_type": "stream",
     "text": [
      "loss tensor(0.4782, device='cuda:0')\n",
      "acc tensor(0.7699, device='cuda:0')\n",
      "auroc tensor(0.7967, device='cuda:0')\n",
      "loss tensor(0.4694, device='cuda:0')\n",
      "acc tensor(0.7769, device='cuda:0')\n",
      "auroc tensor(0.8184, device='cuda:0')\n"
     ]
    },
    {
     "data": {
      "application/vnd.jupyter.widget-view+json": {
       "model_id": "",
       "version_major": 2,
       "version_minor": 0
      },
      "text/plain": [
       "Validating: 0it [00:00, ?it/s]"
      ]
     },
     "metadata": {},
     "output_type": "display_data"
    },
    {
     "name": "stdout",
     "output_type": "stream",
     "text": [
      "loss tensor(0.6773, device='cuda:0')\n",
      "acc tensor(0.7385, device='cuda:0')\n",
      "auroc tensor(0.6832, device='cuda:0')\n",
      "loss tensor(0.4692, device='cuda:0')\n",
      "acc tensor(0.7779, device='cuda:0')\n",
      "auroc tensor(0.8168, device='cuda:0')\n"
     ]
    },
    {
     "data": {
      "application/vnd.jupyter.widget-view+json": {
       "model_id": "",
       "version_major": 2,
       "version_minor": 0
      },
      "text/plain": [
       "Validating: 0it [00:00, ?it/s]"
      ]
     },
     "metadata": {},
     "output_type": "display_data"
    },
    {
     "name": "stdout",
     "output_type": "stream",
     "text": [
      "loss tensor(0.4909, device='cuda:0')\n",
      "acc tensor(0.7666, device='cuda:0')\n",
      "auroc tensor(0.7833, device='cuda:0')\n",
      "loss tensor(0.4687, device='cuda:0')\n",
      "acc tensor(0.7768, device='cuda:0')\n",
      "auroc tensor(0.8186, device='cuda:0')\n"
     ]
    },
    {
     "data": {
      "application/vnd.jupyter.widget-view+json": {
       "model_id": "",
       "version_major": 2,
       "version_minor": 0
      },
      "text/plain": [
       "Validating: 0it [00:00, ?it/s]"
      ]
     },
     "metadata": {},
     "output_type": "display_data"
    },
    {
     "name": "stdout",
     "output_type": "stream",
     "text": [
      "loss tensor(0.5250, device='cuda:0')\n",
      "acc tensor(0.7281, device='cuda:0')\n",
      "auroc tensor(0.7640, device='cuda:0')\n",
      "loss tensor(0.4635, device='cuda:0')\n",
      "acc tensor(0.7778, device='cuda:0')\n",
      "auroc tensor(0.8222, device='cuda:0')\n"
     ]
    },
    {
     "data": {
      "application/vnd.jupyter.widget-view+json": {
       "model_id": "",
       "version_major": 2,
       "version_minor": 0
      },
      "text/plain": [
       "Validating: 0it [00:00, ?it/s]"
      ]
     },
     "metadata": {},
     "output_type": "display_data"
    },
    {
     "name": "stdout",
     "output_type": "stream",
     "text": [
      "loss tensor(0.5835, device='cuda:0')\n",
      "acc tensor(0.7075, device='cuda:0')\n",
      "auroc tensor(0.7309, device='cuda:0')\n",
      "loss tensor(0.4648, device='cuda:0')\n",
      "acc tensor(0.7801, device='cuda:0')\n",
      "auroc tensor(0.8224, device='cuda:0')\n"
     ]
    },
    {
     "data": {
      "application/vnd.jupyter.widget-view+json": {
       "model_id": "",
       "version_major": 2,
       "version_minor": 0
      },
      "text/plain": [
       "Validating: 0it [00:00, ?it/s]"
      ]
     },
     "metadata": {},
     "output_type": "display_data"
    },
    {
     "name": "stdout",
     "output_type": "stream",
     "text": [
      "loss tensor(0.6016, device='cuda:0')\n",
      "acc tensor(0.7498, device='cuda:0')\n",
      "auroc tensor(0.7074, device='cuda:0')\n",
      "loss tensor(0.4652, device='cuda:0')\n",
      "acc tensor(0.7796, device='cuda:0')\n",
      "auroc tensor(0.8222, device='cuda:0')\n"
     ]
    },
    {
     "data": {
      "application/vnd.jupyter.widget-view+json": {
       "model_id": "",
       "version_major": 2,
       "version_minor": 0
      },
      "text/plain": [
       "Validating: 0it [00:00, ?it/s]"
      ]
     },
     "metadata": {},
     "output_type": "display_data"
    },
    {
     "name": "stdout",
     "output_type": "stream",
     "text": [
      "loss tensor(0.4924, device='cuda:0')\n",
      "acc tensor(0.7705, device='cuda:0')\n",
      "auroc tensor(0.7909, device='cuda:0')\n",
      "loss tensor(0.4581, device='cuda:0')\n",
      "acc tensor(0.7808, device='cuda:0')\n",
      "auroc tensor(0.8279, device='cuda:0')\n"
     ]
    },
    {
     "data": {
      "application/vnd.jupyter.widget-view+json": {
       "model_id": "",
       "version_major": 2,
       "version_minor": 0
      },
      "text/plain": [
       "Validating: 0it [00:00, ?it/s]"
      ]
     },
     "metadata": {},
     "output_type": "display_data"
    },
    {
     "name": "stdout",
     "output_type": "stream",
     "text": [
      "loss tensor(0.5491, device='cuda:0')\n",
      "acc tensor(0.7588, device='cuda:0')\n",
      "auroc tensor(0.7388, device='cuda:0')\n",
      "loss tensor(0.4584, device='cuda:0')\n",
      "acc tensor(0.7812, device='cuda:0')\n",
      "auroc tensor(0.8271, device='cuda:0')\n"
     ]
    },
    {
     "data": {
      "application/vnd.jupyter.widget-view+json": {
       "model_id": "",
       "version_major": 2,
       "version_minor": 0
      },
      "text/plain": [
       "Validating: 0it [00:00, ?it/s]"
      ]
     },
     "metadata": {},
     "output_type": "display_data"
    },
    {
     "name": "stdout",
     "output_type": "stream",
     "text": [
      "loss tensor(0.5350, device='cuda:0')\n",
      "acc tensor(0.7713, device='cuda:0')\n",
      "auroc tensor(0.7629, device='cuda:0')\n",
      "loss tensor(0.4580, device='cuda:0')\n",
      "acc tensor(0.7832, device='cuda:0')\n",
      "auroc tensor(0.8272, device='cuda:0')\n"
     ]
    },
    {
     "data": {
      "application/vnd.jupyter.widget-view+json": {
       "model_id": "",
       "version_major": 2,
       "version_minor": 0
      },
      "text/plain": [
       "Validating: 0it [00:00, ?it/s]"
      ]
     },
     "metadata": {},
     "output_type": "display_data"
    },
    {
     "name": "stdout",
     "output_type": "stream",
     "text": [
      "loss tensor(0.4828, device='cuda:0')\n",
      "acc tensor(0.7503, device='cuda:0')\n",
      "auroc tensor(0.8057, device='cuda:0')\n",
      "loss tensor(0.4534, device='cuda:0')\n",
      "acc tensor(0.7837, device='cuda:0')\n",
      "auroc tensor(0.8319, device='cuda:0')\n"
     ]
    },
    {
     "data": {
      "application/vnd.jupyter.widget-view+json": {
       "model_id": "",
       "version_major": 2,
       "version_minor": 0
      },
      "text/plain": [
       "Validating: 0it [00:00, ?it/s]"
      ]
     },
     "metadata": {},
     "output_type": "display_data"
    },
    {
     "name": "stdout",
     "output_type": "stream",
     "text": [
      "loss tensor(0.6644, device='cuda:0')\n",
      "acc tensor(0.6464, device='cuda:0')\n",
      "auroc tensor(0.7015, device='cuda:0')\n",
      "loss tensor(0.4579, device='cuda:0')\n",
      "acc tensor(0.7802, device='cuda:0')\n",
      "auroc tensor(0.8275, device='cuda:0')\n"
     ]
    },
    {
     "data": {
      "application/vnd.jupyter.widget-view+json": {
       "model_id": "",
       "version_major": 2,
       "version_minor": 0
      },
      "text/plain": [
       "Validating: 0it [00:00, ?it/s]"
      ]
     },
     "metadata": {},
     "output_type": "display_data"
    },
    {
     "name": "stdout",
     "output_type": "stream",
     "text": [
      "loss tensor(0.5801, device='cuda:0')\n",
      "acc tensor(0.6975, device='cuda:0')\n",
      "auroc tensor(0.7359, device='cuda:0')\n",
      "loss tensor(0.4581, device='cuda:0')\n",
      "acc tensor(0.7827, device='cuda:0')\n",
      "auroc tensor(0.8282, device='cuda:0')\n"
     ]
    },
    {
     "data": {
      "application/vnd.jupyter.widget-view+json": {
       "model_id": "",
       "version_major": 2,
       "version_minor": 0
      },
      "text/plain": [
       "Validating: 0it [00:00, ?it/s]"
      ]
     },
     "metadata": {},
     "output_type": "display_data"
    },
    {
     "name": "stdout",
     "output_type": "stream",
     "text": [
      "loss tensor(0.5214, device='cuda:0')\n",
      "acc tensor(0.7542, device='cuda:0')\n",
      "auroc tensor(0.7654, device='cuda:0')\n",
      "loss tensor(0.4527, device='cuda:0')\n",
      "acc tensor(0.7863, device='cuda:0')\n",
      "auroc tensor(0.8320, device='cuda:0')\n"
     ]
    },
    {
     "data": {
      "application/vnd.jupyter.widget-view+json": {
       "model_id": "",
       "version_major": 2,
       "version_minor": 0
      },
      "text/plain": [
       "Validating: 0it [00:00, ?it/s]"
      ]
     },
     "metadata": {},
     "output_type": "display_data"
    },
    {
     "name": "stdout",
     "output_type": "stream",
     "text": [
      "loss tensor(0.4540, device='cuda:0')\n",
      "acc tensor(0.7713, device='cuda:0')\n",
      "auroc tensor(0.8245, device='cuda:0')\n",
      "loss tensor(0.4474, device='cuda:0')\n",
      "acc tensor(0.7879, device='cuda:0')\n",
      "auroc tensor(0.8384, device='cuda:0')\n"
     ]
    },
    {
     "data": {
      "application/vnd.jupyter.widget-view+json": {
       "model_id": "",
       "version_major": 2,
       "version_minor": 0
      },
      "text/plain": [
       "Validating: 0it [00:00, ?it/s]"
      ]
     },
     "metadata": {},
     "output_type": "display_data"
    },
    {
     "name": "stdout",
     "output_type": "stream",
     "text": [
      "loss tensor(0.4680, device='cuda:0')\n",
      "acc tensor(0.7765, device='cuda:0')\n",
      "auroc tensor(0.8094, device='cuda:0')\n",
      "loss tensor(0.4487, device='cuda:0')\n",
      "acc tensor(0.7946, device='cuda:0')\n",
      "auroc tensor(0.8370, device='cuda:0')\n"
     ]
    },
    {
     "data": {
      "application/vnd.jupyter.widget-view+json": {
       "model_id": "",
       "version_major": 2,
       "version_minor": 0
      },
      "text/plain": [
       "Validating: 0it [00:00, ?it/s]"
      ]
     },
     "metadata": {},
     "output_type": "display_data"
    },
    {
     "name": "stdout",
     "output_type": "stream",
     "text": [
      "loss tensor(0.5462, device='cuda:0')\n",
      "acc tensor(0.7169, device='cuda:0')\n",
      "auroc tensor(0.7654, device='cuda:0')\n",
      "loss tensor(0.4445, device='cuda:0')\n",
      "acc tensor(0.7920, device='cuda:0')\n",
      "auroc tensor(0.8400, device='cuda:0')\n"
     ]
    },
    {
     "data": {
      "application/vnd.jupyter.widget-view+json": {
       "model_id": "",
       "version_major": 2,
       "version_minor": 0
      },
      "text/plain": [
       "Validating: 0it [00:00, ?it/s]"
      ]
     },
     "metadata": {},
     "output_type": "display_data"
    },
    {
     "name": "stdout",
     "output_type": "stream",
     "text": [
      "loss tensor(0.7297, device='cuda:0')\n",
      "acc tensor(0.6190, device='cuda:0')\n",
      "auroc tensor(0.7116, device='cuda:0')\n",
      "loss tensor(0.4475, device='cuda:0')\n",
      "acc tensor(0.7916, device='cuda:0')\n",
      "auroc tensor(0.8383, device='cuda:0')\n"
     ]
    },
    {
     "data": {
      "application/vnd.jupyter.widget-view+json": {
       "model_id": "",
       "version_major": 2,
       "version_minor": 0
      },
      "text/plain": [
       "Validating: 0it [00:00, ?it/s]"
      ]
     },
     "metadata": {},
     "output_type": "display_data"
    },
    {
     "name": "stdout",
     "output_type": "stream",
     "text": [
      "loss tensor(0.5519, device='cuda:0')\n",
      "acc tensor(0.7115, device='cuda:0')\n",
      "auroc tensor(0.7459, device='cuda:0')\n",
      "loss tensor(0.4445, device='cuda:0')\n",
      "acc tensor(0.7938, device='cuda:0')\n",
      "auroc tensor(0.8400, device='cuda:0')\n"
     ]
    },
    {
     "data": {
      "application/vnd.jupyter.widget-view+json": {
       "model_id": "",
       "version_major": 2,
       "version_minor": 0
      },
      "text/plain": [
       "Validating: 0it [00:00, ?it/s]"
      ]
     },
     "metadata": {},
     "output_type": "display_data"
    },
    {
     "name": "stdout",
     "output_type": "stream",
     "text": [
      "loss tensor(0.6410, device='cuda:0')\n",
      "acc tensor(0.6782, device='cuda:0')\n",
      "auroc tensor(0.7516, device='cuda:0')\n",
      "loss tensor(0.4399, device='cuda:0')\n",
      "acc tensor(0.7966, device='cuda:0')\n",
      "auroc tensor(0.8443, device='cuda:0')\n"
     ]
    },
    {
     "data": {
      "application/vnd.jupyter.widget-view+json": {
       "model_id": "",
       "version_major": 2,
       "version_minor": 0
      },
      "text/plain": [
       "Validating: 0it [00:00, ?it/s]"
      ]
     },
     "metadata": {},
     "output_type": "display_data"
    },
    {
     "name": "stdout",
     "output_type": "stream",
     "text": [
      "loss tensor(0.5165, device='cuda:0')\n",
      "acc tensor(0.7361, device='cuda:0')\n",
      "auroc tensor(0.8058, device='cuda:0')\n",
      "loss tensor(0.4394, device='cuda:0')\n",
      "acc tensor(0.7937, device='cuda:0')\n",
      "auroc tensor(0.8445, device='cuda:0')\n"
     ]
    },
    {
     "data": {
      "application/vnd.jupyter.widget-view+json": {
       "model_id": "",
       "version_major": 2,
       "version_minor": 0
      },
      "text/plain": [
       "Validating: 0it [00:00, ?it/s]"
      ]
     },
     "metadata": {},
     "output_type": "display_data"
    },
    {
     "name": "stdout",
     "output_type": "stream",
     "text": [
      "loss tensor(0.6177, device='cuda:0')\n",
      "acc tensor(0.6905, device='cuda:0')\n",
      "auroc tensor(0.7577, device='cuda:0')\n",
      "loss tensor(0.4371, device='cuda:0')\n",
      "acc tensor(0.7978, device='cuda:0')\n",
      "auroc tensor(0.8470, device='cuda:0')\n"
     ]
    },
    {
     "data": {
      "application/vnd.jupyter.widget-view+json": {
       "model_id": "",
       "version_major": 2,
       "version_minor": 0
      },
      "text/plain": [
       "Validating: 0it [00:00, ?it/s]"
      ]
     },
     "metadata": {},
     "output_type": "display_data"
    },
    {
     "name": "stdout",
     "output_type": "stream",
     "text": [
      "loss tensor(0.5614, device='cuda:0')\n",
      "acc tensor(0.6928, device='cuda:0')\n",
      "auroc tensor(0.7739, device='cuda:0')\n",
      "loss tensor(0.4340, device='cuda:0')\n",
      "acc tensor(0.7981, device='cuda:0')\n",
      "auroc tensor(0.8505, device='cuda:0')\n"
     ]
    },
    {
     "data": {
      "application/vnd.jupyter.widget-view+json": {
       "model_id": "",
       "version_major": 2,
       "version_minor": 0
      },
      "text/plain": [
       "Validating: 0it [00:00, ?it/s]"
      ]
     },
     "metadata": {},
     "output_type": "display_data"
    },
    {
     "name": "stdout",
     "output_type": "stream",
     "text": [
      "loss tensor(0.5191, device='cuda:0')\n",
      "acc tensor(0.7357, device='cuda:0')\n",
      "auroc tensor(0.7665, device='cuda:0')\n",
      "loss tensor(0.4368, device='cuda:0')\n",
      "acc tensor(0.7982, device='cuda:0')\n",
      "auroc tensor(0.8468, device='cuda:0')\n"
     ]
    },
    {
     "data": {
      "application/vnd.jupyter.widget-view+json": {
       "model_id": "",
       "version_major": 2,
       "version_minor": 0
      },
      "text/plain": [
       "Validating: 0it [00:00, ?it/s]"
      ]
     },
     "metadata": {},
     "output_type": "display_data"
    },
    {
     "name": "stdout",
     "output_type": "stream",
     "text": [
      "loss tensor(0.5577, device='cuda:0')\n",
      "acc tensor(0.7173, device='cuda:0')\n",
      "auroc tensor(0.7635, device='cuda:0')\n",
      "loss tensor(0.4354, device='cuda:0')\n",
      "acc tensor(0.7976, device='cuda:0')\n",
      "auroc tensor(0.8476, device='cuda:0')\n"
     ]
    },
    {
     "data": {
      "application/vnd.jupyter.widget-view+json": {
       "model_id": "",
       "version_major": 2,
       "version_minor": 0
      },
      "text/plain": [
       "Validating: 0it [00:00, ?it/s]"
      ]
     },
     "metadata": {},
     "output_type": "display_data"
    },
    {
     "name": "stdout",
     "output_type": "stream",
     "text": [
      "loss tensor(0.5658, device='cuda:0')\n",
      "acc tensor(0.7147, device='cuda:0')\n",
      "auroc tensor(0.7684, device='cuda:0')\n",
      "loss tensor(0.4358, device='cuda:0')\n",
      "acc tensor(0.8018, device='cuda:0')\n",
      "auroc tensor(0.8471, device='cuda:0')\n"
     ]
    },
    {
     "data": {
      "application/vnd.jupyter.widget-view+json": {
       "model_id": "",
       "version_major": 2,
       "version_minor": 0
      },
      "text/plain": [
       "Validating: 0it [00:00, ?it/s]"
      ]
     },
     "metadata": {},
     "output_type": "display_data"
    },
    {
     "name": "stdout",
     "output_type": "stream",
     "text": [
      "loss tensor(0.7254, device='cuda:0')\n",
      "acc tensor(0.6231, device='cuda:0')\n",
      "auroc tensor(0.7587, device='cuda:0')\n",
      "loss tensor(0.4289, device='cuda:0')\n",
      "acc tensor(0.8024, device='cuda:0')\n",
      "auroc tensor(0.8531, device='cuda:0')\n"
     ]
    },
    {
     "data": {
      "application/vnd.jupyter.widget-view+json": {
       "model_id": "",
       "version_major": 2,
       "version_minor": 0
      },
      "text/plain": [
       "Validating: 0it [00:00, ?it/s]"
      ]
     },
     "metadata": {},
     "output_type": "display_data"
    },
    {
     "name": "stdout",
     "output_type": "stream",
     "text": [
      "loss tensor(0.5313, device='cuda:0')\n",
      "acc tensor(0.7473, device='cuda:0')\n",
      "auroc tensor(0.7567, device='cuda:0')\n",
      "loss tensor(0.4323, device='cuda:0')\n",
      "acc tensor(0.8019, device='cuda:0')\n",
      "auroc tensor(0.8503, device='cuda:0')\n"
     ]
    },
    {
     "data": {
      "application/vnd.jupyter.widget-view+json": {
       "model_id": "",
       "version_major": 2,
       "version_minor": 0
      },
      "text/plain": [
       "Validating: 0it [00:00, ?it/s]"
      ]
     },
     "metadata": {},
     "output_type": "display_data"
    },
    {
     "name": "stdout",
     "output_type": "stream",
     "text": [
      "loss tensor(0.5101, device='cuda:0')\n",
      "acc tensor(0.7438, device='cuda:0')\n",
      "auroc tensor(0.7740, device='cuda:0')\n",
      "loss tensor(0.4292, device='cuda:0')\n",
      "acc tensor(0.8035, device='cuda:0')\n",
      "auroc tensor(0.8515, device='cuda:0')\n"
     ]
    },
    {
     "data": {
      "application/vnd.jupyter.widget-view+json": {
       "model_id": "",
       "version_major": 2,
       "version_minor": 0
      },
      "text/plain": [
       "Validating: 0it [00:00, ?it/s]"
      ]
     },
     "metadata": {},
     "output_type": "display_data"
    },
    {
     "name": "stdout",
     "output_type": "stream",
     "text": [
      "loss tensor(0.5599, device='cuda:0')\n",
      "acc tensor(0.6959, device='cuda:0')\n",
      "auroc tensor(0.7572, device='cuda:0')\n",
      "loss tensor(0.4322, device='cuda:0')\n",
      "acc tensor(0.8030, device='cuda:0')\n",
      "auroc tensor(0.8504, device='cuda:0')\n"
     ]
    },
    {
     "data": {
      "application/vnd.jupyter.widget-view+json": {
       "model_id": "",
       "version_major": 2,
       "version_minor": 0
      },
      "text/plain": [
       "Validating: 0it [00:00, ?it/s]"
      ]
     },
     "metadata": {},
     "output_type": "display_data"
    },
    {
     "name": "stdout",
     "output_type": "stream",
     "text": [
      "loss tensor(0.6115, device='cuda:0')\n",
      "acc tensor(0.6883, device='cuda:0')\n",
      "auroc tensor(0.7187, device='cuda:0')\n",
      "loss tensor(0.4328, device='cuda:0')\n",
      "acc tensor(0.7996, device='cuda:0')\n",
      "auroc tensor(0.8496, device='cuda:0')\n"
     ]
    },
    {
     "data": {
      "application/vnd.jupyter.widget-view+json": {
       "model_id": "",
       "version_major": 2,
       "version_minor": 0
      },
      "text/plain": [
       "Validating: 0it [00:00, ?it/s]"
      ]
     },
     "metadata": {},
     "output_type": "display_data"
    },
    {
     "name": "stdout",
     "output_type": "stream",
     "text": [
      "loss tensor(0.5972, device='cuda:0')\n",
      "acc tensor(0.6787, device='cuda:0')\n",
      "auroc tensor(0.7347, device='cuda:0')\n",
      "loss tensor(0.4253, device='cuda:0')\n",
      "acc tensor(0.8058, device='cuda:0')\n",
      "auroc tensor(0.8564, device='cuda:0')\n"
     ]
    },
    {
     "data": {
      "application/vnd.jupyter.widget-view+json": {
       "model_id": "",
       "version_major": 2,
       "version_minor": 0
      },
      "text/plain": [
       "Validating: 0it [00:00, ?it/s]"
      ]
     },
     "metadata": {},
     "output_type": "display_data"
    },
    {
     "name": "stdout",
     "output_type": "stream",
     "text": [
      "loss tensor(0.6920, device='cuda:0')\n",
      "acc tensor(0.6539, device='cuda:0')\n",
      "auroc tensor(0.7236, device='cuda:0')\n",
      "loss tensor(0.4266, device='cuda:0')\n",
      "acc tensor(0.8019, device='cuda:0')\n",
      "auroc tensor(0.8553, device='cuda:0')\n"
     ]
    },
    {
     "data": {
      "application/vnd.jupyter.widget-view+json": {
       "model_id": "",
       "version_major": 2,
       "version_minor": 0
      },
      "text/plain": [
       "Validating: 0it [00:00, ?it/s]"
      ]
     },
     "metadata": {},
     "output_type": "display_data"
    },
    {
     "name": "stdout",
     "output_type": "stream",
     "text": [
      "loss tensor(0.6157, device='cuda:0')\n",
      "acc tensor(0.6781, device='cuda:0')\n",
      "auroc tensor(0.7578, device='cuda:0')\n",
      "loss tensor(0.4254, device='cuda:0')\n",
      "acc tensor(0.8028, device='cuda:0')\n",
      "auroc tensor(0.8560, device='cuda:0')\n"
     ]
    },
    {
     "data": {
      "application/vnd.jupyter.widget-view+json": {
       "model_id": "",
       "version_major": 2,
       "version_minor": 0
      },
      "text/plain": [
       "Validating: 0it [00:00, ?it/s]"
      ]
     },
     "metadata": {},
     "output_type": "display_data"
    },
    {
     "name": "stdout",
     "output_type": "stream",
     "text": [
      "loss tensor(0.5175, device='cuda:0')\n",
      "acc tensor(0.7506, device='cuda:0')\n",
      "auroc tensor(0.7904, device='cuda:0')\n",
      "loss tensor(0.4237, device='cuda:0')\n",
      "acc tensor(0.8054, device='cuda:0')\n",
      "auroc tensor(0.8579, device='cuda:0')\n"
     ]
    },
    {
     "data": {
      "application/vnd.jupyter.widget-view+json": {
       "model_id": "",
       "version_major": 2,
       "version_minor": 0
      },
      "text/plain": [
       "Validating: 0it [00:00, ?it/s]"
      ]
     },
     "metadata": {},
     "output_type": "display_data"
    },
    {
     "name": "stdout",
     "output_type": "stream",
     "text": [
      "loss tensor(0.5839, device='cuda:0')\n",
      "acc tensor(0.7223, device='cuda:0')\n",
      "auroc tensor(0.7475, device='cuda:0')\n",
      "loss tensor(0.4229, device='cuda:0')\n",
      "acc tensor(0.8095, device='cuda:0')\n",
      "auroc tensor(0.8578, device='cuda:0')\n"
     ]
    },
    {
     "data": {
      "application/vnd.jupyter.widget-view+json": {
       "model_id": "",
       "version_major": 2,
       "version_minor": 0
      },
      "text/plain": [
       "Validating: 0it [00:00, ?it/s]"
      ]
     },
     "metadata": {},
     "output_type": "display_data"
    },
    {
     "name": "stdout",
     "output_type": "stream",
     "text": [
      "loss tensor(0.5586, device='cuda:0')\n",
      "acc tensor(0.7312, device='cuda:0')\n",
      "auroc tensor(0.7633, device='cuda:0')\n",
      "loss tensor(0.4229, device='cuda:0')\n",
      "acc tensor(0.8066, device='cuda:0')\n",
      "auroc tensor(0.8575, device='cuda:0')\n"
     ]
    },
    {
     "data": {
      "application/vnd.jupyter.widget-view+json": {
       "model_id": "",
       "version_major": 2,
       "version_minor": 0
      },
      "text/plain": [
       "Validating: 0it [00:00, ?it/s]"
      ]
     },
     "metadata": {},
     "output_type": "display_data"
    },
    {
     "name": "stdout",
     "output_type": "stream",
     "text": [
      "loss tensor(0.6741, device='cuda:0')\n",
      "acc tensor(0.6877, device='cuda:0')\n",
      "auroc tensor(0.7063, device='cuda:0')\n",
      "loss tensor(0.4232, device='cuda:0')\n",
      "acc tensor(0.8062, device='cuda:0')\n",
      "auroc tensor(0.8568, device='cuda:0')\n"
     ]
    },
    {
     "data": {
      "application/vnd.jupyter.widget-view+json": {
       "model_id": "",
       "version_major": 2,
       "version_minor": 0
      },
      "text/plain": [
       "Validating: 0it [00:00, ?it/s]"
      ]
     },
     "metadata": {},
     "output_type": "display_data"
    },
    {
     "name": "stdout",
     "output_type": "stream",
     "text": [
      "loss tensor(0.5713, device='cuda:0')\n",
      "acc tensor(0.7110, device='cuda:0')\n",
      "auroc tensor(0.7805, device='cuda:0')\n",
      "loss tensor(0.4182, device='cuda:0')\n",
      "acc tensor(0.8103, device='cuda:0')\n",
      "auroc tensor(0.8604, device='cuda:0')\n"
     ]
    },
    {
     "data": {
      "application/vnd.jupyter.widget-view+json": {
       "model_id": "",
       "version_major": 2,
       "version_minor": 0
      },
      "text/plain": [
       "Validating: 0it [00:00, ?it/s]"
      ]
     },
     "metadata": {},
     "output_type": "display_data"
    },
    {
     "name": "stdout",
     "output_type": "stream",
     "text": [
      "loss tensor(0.4991, device='cuda:0')\n",
      "acc tensor(0.7652, device='cuda:0')\n",
      "auroc tensor(0.7883, device='cuda:0')\n",
      "loss tensor(0.4207, device='cuda:0')\n",
      "acc tensor(0.8070, device='cuda:0')\n",
      "auroc tensor(0.8589, device='cuda:0')\n"
     ]
    },
    {
     "data": {
      "application/vnd.jupyter.widget-view+json": {
       "model_id": "",
       "version_major": 2,
       "version_minor": 0
      },
      "text/plain": [
       "Validating: 0it [00:00, ?it/s]"
      ]
     },
     "metadata": {},
     "output_type": "display_data"
    },
    {
     "name": "stdout",
     "output_type": "stream",
     "text": [
      "loss tensor(0.6633, device='cuda:0')\n",
      "acc tensor(0.6664, device='cuda:0')\n",
      "auroc tensor(0.7268, device='cuda:0')\n",
      "loss tensor(0.4219, device='cuda:0')\n",
      "acc tensor(0.8044, device='cuda:0')\n",
      "auroc tensor(0.8581, device='cuda:0')\n"
     ]
    },
    {
     "data": {
      "application/vnd.jupyter.widget-view+json": {
       "model_id": "",
       "version_major": 2,
       "version_minor": 0
      },
      "text/plain": [
       "Validating: 0it [00:00, ?it/s]"
      ]
     },
     "metadata": {},
     "output_type": "display_data"
    },
    {
     "name": "stdout",
     "output_type": "stream",
     "text": [
      "loss tensor(0.6757, device='cuda:0')\n",
      "acc tensor(0.6489, device='cuda:0')\n",
      "auroc tensor(0.7538, device='cuda:0')\n",
      "loss tensor(0.4129, device='cuda:0')\n",
      "acc tensor(0.8124, device='cuda:0')\n",
      "auroc tensor(0.8647, device='cuda:0')\n"
     ]
    },
    {
     "data": {
      "application/vnd.jupyter.widget-view+json": {
       "model_id": "",
       "version_major": 2,
       "version_minor": 0
      },
      "text/plain": [
       "Validating: 0it [00:00, ?it/s]"
      ]
     },
     "metadata": {},
     "output_type": "display_data"
    },
    {
     "name": "stdout",
     "output_type": "stream",
     "text": [
      "loss tensor(0.6632, device='cuda:0')\n",
      "acc tensor(0.6649, device='cuda:0')\n",
      "auroc tensor(0.7361, device='cuda:0')\n",
      "loss tensor(0.4143, device='cuda:0')\n",
      "acc tensor(0.8077, device='cuda:0')\n",
      "auroc tensor(0.8646, device='cuda:0')\n"
     ]
    },
    {
     "data": {
      "application/vnd.jupyter.widget-view+json": {
       "model_id": "",
       "version_major": 2,
       "version_minor": 0
      },
      "text/plain": [
       "Validating: 0it [00:00, ?it/s]"
      ]
     },
     "metadata": {},
     "output_type": "display_data"
    },
    {
     "name": "stdout",
     "output_type": "stream",
     "text": [
      "loss tensor(0.5991, device='cuda:0')\n",
      "acc tensor(0.7221, device='cuda:0')\n",
      "auroc tensor(0.7480, device='cuda:0')\n",
      "loss tensor(0.4169, device='cuda:0')\n",
      "acc tensor(0.8117, device='cuda:0')\n",
      "auroc tensor(0.8617, device='cuda:0')\n"
     ]
    },
    {
     "data": {
      "application/vnd.jupyter.widget-view+json": {
       "model_id": "",
       "version_major": 2,
       "version_minor": 0
      },
      "text/plain": [
       "Validating: 0it [00:00, ?it/s]"
      ]
     },
     "metadata": {},
     "output_type": "display_data"
    },
    {
     "name": "stdout",
     "output_type": "stream",
     "text": [
      "loss tensor(0.5849, device='cuda:0')\n",
      "acc tensor(0.7309, device='cuda:0')\n",
      "auroc tensor(0.7702, device='cuda:0')\n",
      "loss tensor(0.4149, device='cuda:0')\n",
      "acc tensor(0.8117, device='cuda:0')\n",
      "auroc tensor(0.8626, device='cuda:0')\n"
     ]
    },
    {
     "data": {
      "application/vnd.jupyter.widget-view+json": {
       "model_id": "",
       "version_major": 2,
       "version_minor": 0
      },
      "text/plain": [
       "Validating: 0it [00:00, ?it/s]"
      ]
     },
     "metadata": {},
     "output_type": "display_data"
    },
    {
     "name": "stdout",
     "output_type": "stream",
     "text": [
      "loss tensor(0.5845, device='cuda:0')\n",
      "acc tensor(0.7304, device='cuda:0')\n",
      "auroc tensor(0.7557, device='cuda:0')\n",
      "loss tensor(0.4146, device='cuda:0')\n",
      "acc tensor(0.8107, device='cuda:0')\n",
      "auroc tensor(0.8634, device='cuda:0')\n"
     ]
    },
    {
     "data": {
      "application/vnd.jupyter.widget-view+json": {
       "model_id": "",
       "version_major": 2,
       "version_minor": 0
      },
      "text/plain": [
       "Validating: 0it [00:00, ?it/s]"
      ]
     },
     "metadata": {},
     "output_type": "display_data"
    },
    {
     "name": "stdout",
     "output_type": "stream",
     "text": [
      "loss tensor(0.5892, device='cuda:0')\n",
      "acc tensor(0.7243, device='cuda:0')\n",
      "auroc tensor(0.7605, device='cuda:0')\n",
      "loss tensor(0.4136, device='cuda:0')\n",
      "acc tensor(0.8111, device='cuda:0')\n",
      "auroc tensor(0.8651, device='cuda:0')\n"
     ]
    },
    {
     "data": {
      "application/vnd.jupyter.widget-view+json": {
       "model_id": "",
       "version_major": 2,
       "version_minor": 0
      },
      "text/plain": [
       "Validating: 0it [00:00, ?it/s]"
      ]
     },
     "metadata": {},
     "output_type": "display_data"
    },
    {
     "name": "stdout",
     "output_type": "stream",
     "text": [
      "loss tensor(0.5667, device='cuda:0')\n",
      "acc tensor(0.7054, device='cuda:0')\n",
      "auroc tensor(0.7990, device='cuda:0')\n",
      "loss tensor(0.4102, device='cuda:0')\n",
      "acc tensor(0.8121, device='cuda:0')\n",
      "auroc tensor(0.8674, device='cuda:0')\n"
     ]
    },
    {
     "data": {
      "application/vnd.jupyter.widget-view+json": {
       "model_id": "",
       "version_major": 2,
       "version_minor": 0
      },
      "text/plain": [
       "Validating: 0it [00:00, ?it/s]"
      ]
     },
     "metadata": {},
     "output_type": "display_data"
    },
    {
     "name": "stdout",
     "output_type": "stream",
     "text": [
      "loss tensor(0.6449, device='cuda:0')\n",
      "acc tensor(0.7313, device='cuda:0')\n",
      "auroc tensor(0.7343, device='cuda:0')\n",
      "loss tensor(0.4106, device='cuda:0')\n",
      "acc tensor(0.8137, device='cuda:0')\n",
      "auroc tensor(0.8672, device='cuda:0')\n"
     ]
    },
    {
     "data": {
      "application/vnd.jupyter.widget-view+json": {
       "model_id": "",
       "version_major": 2,
       "version_minor": 0
      },
      "text/plain": [
       "Validating: 0it [00:00, ?it/s]"
      ]
     },
     "metadata": {},
     "output_type": "display_data"
    },
    {
     "name": "stdout",
     "output_type": "stream",
     "text": [
      "loss tensor(0.5893, device='cuda:0')\n",
      "acc tensor(0.7244, device='cuda:0')\n",
      "auroc tensor(0.7644, device='cuda:0')\n",
      "loss tensor(0.4080, device='cuda:0')\n",
      "acc tensor(0.8139, device='cuda:0')\n",
      "auroc tensor(0.8692, device='cuda:0')\n"
     ]
    },
    {
     "data": {
      "application/vnd.jupyter.widget-view+json": {
       "model_id": "",
       "version_major": 2,
       "version_minor": 0
      },
      "text/plain": [
       "Validating: 0it [00:00, ?it/s]"
      ]
     },
     "metadata": {},
     "output_type": "display_data"
    },
    {
     "name": "stdout",
     "output_type": "stream",
     "text": [
      "loss tensor(0.5421, device='cuda:0')\n",
      "acc tensor(0.7510, device='cuda:0')\n",
      "auroc tensor(0.7858, device='cuda:0')\n",
      "loss tensor(0.4052, device='cuda:0')\n",
      "acc tensor(0.8135, device='cuda:0')\n",
      "auroc tensor(0.8714, device='cuda:0')\n"
     ]
    },
    {
     "data": {
      "application/vnd.jupyter.widget-view+json": {
       "model_id": "",
       "version_major": 2,
       "version_minor": 0
      },
      "text/plain": [
       "Validating: 0it [00:00, ?it/s]"
      ]
     },
     "metadata": {},
     "output_type": "display_data"
    },
    {
     "name": "stdout",
     "output_type": "stream",
     "text": [
      "loss tensor(0.6955, device='cuda:0')\n",
      "acc tensor(0.7211, device='cuda:0')\n",
      "auroc tensor(0.7308, device='cuda:0')\n",
      "loss tensor(0.4053, device='cuda:0')\n",
      "acc tensor(0.8146, device='cuda:0')\n",
      "auroc tensor(0.8708, device='cuda:0')\n"
     ]
    },
    {
     "data": {
      "application/vnd.jupyter.widget-view+json": {
       "model_id": "",
       "version_major": 2,
       "version_minor": 0
      },
      "text/plain": [
       "Validating: 0it [00:00, ?it/s]"
      ]
     },
     "metadata": {},
     "output_type": "display_data"
    },
    {
     "name": "stdout",
     "output_type": "stream",
     "text": [
      "loss tensor(0.5282, device='cuda:0')\n",
      "acc tensor(0.7584, device='cuda:0')\n",
      "auroc tensor(0.7861, device='cuda:0')\n",
      "loss tensor(0.4032, device='cuda:0')\n",
      "acc tensor(0.8179, device='cuda:0')\n",
      "auroc tensor(0.8724, device='cuda:0')\n"
     ]
    },
    {
     "data": {
      "application/vnd.jupyter.widget-view+json": {
       "model_id": "",
       "version_major": 2,
       "version_minor": 0
      },
      "text/plain": [
       "Validating: 0it [00:00, ?it/s]"
      ]
     },
     "metadata": {},
     "output_type": "display_data"
    },
    {
     "name": "stdout",
     "output_type": "stream",
     "text": [
      "loss tensor(0.4222, device='cuda:0')\n",
      "acc tensor(0.8003, device='cuda:0')\n",
      "auroc tensor(0.8527, device='cuda:0')\n",
      "loss tensor(0.4058, device='cuda:0')\n",
      "acc tensor(0.8159, device='cuda:0')\n",
      "auroc tensor(0.8709, device='cuda:0')\n"
     ]
    },
    {
     "data": {
      "application/vnd.jupyter.widget-view+json": {
       "model_id": "",
       "version_major": 2,
       "version_minor": 0
      },
      "text/plain": [
       "Validating: 0it [00:00, ?it/s]"
      ]
     },
     "metadata": {},
     "output_type": "display_data"
    },
    {
     "name": "stdout",
     "output_type": "stream",
     "text": [
      "loss tensor(0.4476, device='cuda:0')\n",
      "acc tensor(0.7861, device='cuda:0')\n",
      "auroc tensor(0.8411, device='cuda:0')\n",
      "loss tensor(0.4048, device='cuda:0')\n",
      "acc tensor(0.8153, device='cuda:0')\n",
      "auroc tensor(0.8719, device='cuda:0')\n"
     ]
    },
    {
     "data": {
      "application/vnd.jupyter.widget-view+json": {
       "model_id": "",
       "version_major": 2,
       "version_minor": 0
      },
      "text/plain": [
       "Validating: 0it [00:00, ?it/s]"
      ]
     },
     "metadata": {},
     "output_type": "display_data"
    },
    {
     "name": "stdout",
     "output_type": "stream",
     "text": [
      "loss tensor(0.4770, device='cuda:0')\n",
      "acc tensor(0.7826, device='cuda:0')\n",
      "auroc tensor(0.8107, device='cuda:0')\n",
      "loss tensor(0.3984, device='cuda:0')\n",
      "acc tensor(0.8192, device='cuda:0')\n",
      "auroc tensor(0.8760, device='cuda:0')\n"
     ]
    },
    {
     "data": {
      "application/vnd.jupyter.widget-view+json": {
       "model_id": "",
       "version_major": 2,
       "version_minor": 0
      },
      "text/plain": [
       "Validating: 0it [00:00, ?it/s]"
      ]
     },
     "metadata": {},
     "output_type": "display_data"
    },
    {
     "name": "stdout",
     "output_type": "stream",
     "text": [
      "loss tensor(0.5691, device='cuda:0')\n",
      "acc tensor(0.7602, device='cuda:0')\n",
      "auroc tensor(0.7737, device='cuda:0')\n",
      "loss tensor(0.3943, device='cuda:0')\n",
      "acc tensor(0.8201, device='cuda:0')\n",
      "auroc tensor(0.8785, device='cuda:0')\n"
     ]
    },
    {
     "data": {
      "application/vnd.jupyter.widget-view+json": {
       "model_id": "",
       "version_major": 2,
       "version_minor": 0
      },
      "text/plain": [
       "Validating: 0it [00:00, ?it/s]"
      ]
     },
     "metadata": {},
     "output_type": "display_data"
    },
    {
     "name": "stdout",
     "output_type": "stream",
     "text": [
      "loss tensor(0.5471, device='cuda:0')\n",
      "acc tensor(0.7369, device='cuda:0')\n",
      "auroc tensor(0.7719, device='cuda:0')\n",
      "loss tensor(0.3930, device='cuda:0')\n",
      "acc tensor(0.8240, device='cuda:0')\n",
      "auroc tensor(0.8811, device='cuda:0')\n"
     ]
    },
    {
     "data": {
      "application/vnd.jupyter.widget-view+json": {
       "model_id": "",
       "version_major": 2,
       "version_minor": 0
      },
      "text/plain": [
       "Validating: 0it [00:00, ?it/s]"
      ]
     },
     "metadata": {},
     "output_type": "display_data"
    },
    {
     "name": "stdout",
     "output_type": "stream",
     "text": [
      "loss tensor(0.4675, device='cuda:0')\n",
      "acc tensor(0.7737, device='cuda:0')\n",
      "auroc tensor(0.8186, device='cuda:0')\n",
      "loss tensor(0.3967, device='cuda:0')\n",
      "acc tensor(0.8218, device='cuda:0')\n",
      "auroc tensor(0.8761, device='cuda:0')\n"
     ]
    },
    {
     "data": {
      "application/vnd.jupyter.widget-view+json": {
       "model_id": "",
       "version_major": 2,
       "version_minor": 0
      },
      "text/plain": [
       "Validating: 0it [00:00, ?it/s]"
      ]
     },
     "metadata": {},
     "output_type": "display_data"
    },
    {
     "name": "stdout",
     "output_type": "stream",
     "text": [
      "loss tensor(0.5263, device='cuda:0')\n",
      "acc tensor(0.7581, device='cuda:0')\n",
      "auroc tensor(0.7928, device='cuda:0')\n",
      "loss tensor(0.3982, device='cuda:0')\n",
      "acc tensor(0.8223, device='cuda:0')\n",
      "auroc tensor(0.8755, device='cuda:0')\n"
     ]
    },
    {
     "data": {
      "application/vnd.jupyter.widget-view+json": {
       "model_id": "",
       "version_major": 2,
       "version_minor": 0
      },
      "text/plain": [
       "Validating: 0it [00:00, ?it/s]"
      ]
     },
     "metadata": {},
     "output_type": "display_data"
    },
    {
     "name": "stdout",
     "output_type": "stream",
     "text": [
      "loss tensor(0.4477, device='cuda:0')\n",
      "acc tensor(0.7878, device='cuda:0')\n",
      "auroc tensor(0.8411, device='cuda:0')\n",
      "loss tensor(0.3944, device='cuda:0')\n",
      "acc tensor(0.8203, device='cuda:0')\n",
      "auroc tensor(0.8783, device='cuda:0')\n"
     ]
    },
    {
     "data": {
      "application/vnd.jupyter.widget-view+json": {
       "model_id": "",
       "version_major": 2,
       "version_minor": 0
      },
      "text/plain": [
       "Validating: 0it [00:00, ?it/s]"
      ]
     },
     "metadata": {},
     "output_type": "display_data"
    },
    {
     "name": "stdout",
     "output_type": "stream",
     "text": [
      "loss tensor(0.4895, device='cuda:0')\n",
      "acc tensor(0.7674, device='cuda:0')\n",
      "auroc tensor(0.8144, device='cuda:0')\n",
      "loss tensor(0.3919, device='cuda:0')\n",
      "acc tensor(0.8239, device='cuda:0')\n",
      "auroc tensor(0.8804, device='cuda:0')\n"
     ]
    },
    {
     "data": {
      "application/vnd.jupyter.widget-view+json": {
       "model_id": "",
       "version_major": 2,
       "version_minor": 0
      },
      "text/plain": [
       "Validating: 0it [00:00, ?it/s]"
      ]
     },
     "metadata": {},
     "output_type": "display_data"
    },
    {
     "name": "stdout",
     "output_type": "stream",
     "text": [
      "loss tensor(0.4383, device='cuda:0')\n",
      "acc tensor(0.7917, device='cuda:0')\n",
      "auroc tensor(0.8443, device='cuda:0')\n",
      "loss tensor(0.3943, device='cuda:0')\n",
      "acc tensor(0.8250, device='cuda:0')\n",
      "auroc tensor(0.8788, device='cuda:0')\n"
     ]
    },
    {
     "data": {
      "application/vnd.jupyter.widget-view+json": {
       "model_id": "",
       "version_major": 2,
       "version_minor": 0
      },
      "text/plain": [
       "Validating: 0it [00:00, ?it/s]"
      ]
     },
     "metadata": {},
     "output_type": "display_data"
    },
    {
     "name": "stdout",
     "output_type": "stream",
     "text": [
      "loss tensor(0.4864, device='cuda:0')\n",
      "acc tensor(0.7792, device='cuda:0')\n",
      "auroc tensor(0.8213, device='cuda:0')\n",
      "loss tensor(0.3931, device='cuda:0')\n",
      "acc tensor(0.8221, device='cuda:0')\n",
      "auroc tensor(0.8798, device='cuda:0')\n"
     ]
    },
    {
     "data": {
      "application/vnd.jupyter.widget-view+json": {
       "model_id": "",
       "version_major": 2,
       "version_minor": 0
      },
      "text/plain": [
       "Validating: 0it [00:00, ?it/s]"
      ]
     },
     "metadata": {},
     "output_type": "display_data"
    },
    {
     "name": "stdout",
     "output_type": "stream",
     "text": [
      "loss tensor(0.5019, device='cuda:0')\n",
      "acc tensor(0.7658, device='cuda:0')\n",
      "auroc tensor(0.8055, device='cuda:0')\n",
      "loss tensor(0.3946, device='cuda:0')\n",
      "acc tensor(0.8218, device='cuda:0')\n",
      "auroc tensor(0.8787, device='cuda:0')\n"
     ]
    },
    {
     "data": {
      "application/vnd.jupyter.widget-view+json": {
       "model_id": "",
       "version_major": 2,
       "version_minor": 0
      },
      "text/plain": [
       "Validating: 0it [00:00, ?it/s]"
      ]
     },
     "metadata": {},
     "output_type": "display_data"
    },
    {
     "name": "stdout",
     "output_type": "stream",
     "text": [
      "loss tensor(0.4634, device='cuda:0')\n",
      "acc tensor(0.7816, device='cuda:0')\n",
      "auroc tensor(0.8325, device='cuda:0')\n",
      "loss tensor(0.3925, device='cuda:0')\n",
      "acc tensor(0.8278, device='cuda:0')\n",
      "auroc tensor(0.8807, device='cuda:0')\n"
     ]
    },
    {
     "data": {
      "application/vnd.jupyter.widget-view+json": {
       "model_id": "",
       "version_major": 2,
       "version_minor": 0
      },
      "text/plain": [
       "Validating: 0it [00:00, ?it/s]"
      ]
     },
     "metadata": {},
     "output_type": "display_data"
    },
    {
     "name": "stdout",
     "output_type": "stream",
     "text": [
      "loss tensor(0.4498, device='cuda:0')\n",
      "acc tensor(0.7863, device='cuda:0')\n",
      "auroc tensor(0.8421, device='cuda:0')\n",
      "loss tensor(0.3936, device='cuda:0')\n",
      "acc tensor(0.8212, device='cuda:0')\n",
      "auroc tensor(0.8800, device='cuda:0')\n"
     ]
    },
    {
     "data": {
      "application/vnd.jupyter.widget-view+json": {
       "model_id": "",
       "version_major": 2,
       "version_minor": 0
      },
      "text/plain": [
       "Validating: 0it [00:00, ?it/s]"
      ]
     },
     "metadata": {},
     "output_type": "display_data"
    },
    {
     "name": "stdout",
     "output_type": "stream",
     "text": [
      "loss tensor(0.4435, device='cuda:0')\n",
      "acc tensor(0.7853, device='cuda:0')\n",
      "auroc tensor(0.8400, device='cuda:0')\n",
      "loss tensor(0.3952, device='cuda:0')\n",
      "acc tensor(0.8236, device='cuda:0')\n",
      "auroc tensor(0.8793, device='cuda:0')\n"
     ]
    },
    {
     "data": {
      "application/vnd.jupyter.widget-view+json": {
       "model_id": "",
       "version_major": 2,
       "version_minor": 0
      },
      "text/plain": [
       "Validating: 0it [00:00, ?it/s]"
      ]
     },
     "metadata": {},
     "output_type": "display_data"
    },
    {
     "name": "stdout",
     "output_type": "stream",
     "text": [
      "loss tensor(0.4633, device='cuda:0')\n",
      "acc tensor(0.7833, device='cuda:0')\n",
      "auroc tensor(0.8238, device='cuda:0')\n",
      "loss tensor(0.3969, device='cuda:0')\n",
      "acc tensor(0.8224, device='cuda:0')\n",
      "auroc tensor(0.8771, device='cuda:0')\n"
     ]
    },
    {
     "data": {
      "application/vnd.jupyter.widget-view+json": {
       "model_id": "",
       "version_major": 2,
       "version_minor": 0
      },
      "text/plain": [
       "Validating: 0it [00:00, ?it/s]"
      ]
     },
     "metadata": {},
     "output_type": "display_data"
    },
    {
     "name": "stdout",
     "output_type": "stream",
     "text": [
      "loss tensor(0.5929, device='cuda:0')\n",
      "acc tensor(0.7351, device='cuda:0')\n",
      "auroc tensor(0.7656, device='cuda:0')\n",
      "loss tensor(0.3931, device='cuda:0')\n",
      "acc tensor(0.8253, device='cuda:0')\n",
      "auroc tensor(0.8807, device='cuda:0')\n"
     ]
    },
    {
     "data": {
      "application/vnd.jupyter.widget-view+json": {
       "model_id": "",
       "version_major": 2,
       "version_minor": 0
      },
      "text/plain": [
       "Validating: 0it [00:00, ?it/s]"
      ]
     },
     "metadata": {},
     "output_type": "display_data"
    },
    {
     "name": "stdout",
     "output_type": "stream",
     "text": [
      "loss tensor(0.4486, device='cuda:0')\n",
      "acc tensor(0.7906, device='cuda:0')\n",
      "auroc tensor(0.8464, device='cuda:0')\n",
      "loss tensor(0.3901, device='cuda:0')\n",
      "acc tensor(0.8247, device='cuda:0')\n",
      "auroc tensor(0.8818, device='cuda:0')\n"
     ]
    },
    {
     "data": {
      "application/vnd.jupyter.widget-view+json": {
       "model_id": "",
       "version_major": 2,
       "version_minor": 0
      },
      "text/plain": [
       "Validating: 0it [00:00, ?it/s]"
      ]
     },
     "metadata": {},
     "output_type": "display_data"
    },
    {
     "name": "stdout",
     "output_type": "stream",
     "text": [
      "loss tensor(0.6974, device='cuda:0')\n",
      "acc tensor(0.7033, device='cuda:0')\n",
      "auroc tensor(0.7323, device='cuda:0')\n",
      "loss tensor(0.3880, device='cuda:0')\n",
      "acc tensor(0.8288, device='cuda:0')\n",
      "auroc tensor(0.8825, device='cuda:0')\n"
     ]
    },
    {
     "data": {
      "application/vnd.jupyter.widget-view+json": {
       "model_id": "",
       "version_major": 2,
       "version_minor": 0
      },
      "text/plain": [
       "Validating: 0it [00:00, ?it/s]"
      ]
     },
     "metadata": {},
     "output_type": "display_data"
    },
    {
     "name": "stdout",
     "output_type": "stream",
     "text": [
      "loss tensor(0.6925, device='cuda:0')\n",
      "acc tensor(0.7276, device='cuda:0')\n",
      "auroc tensor(0.7372, device='cuda:0')\n",
      "loss tensor(0.3860, device='cuda:0')\n",
      "acc tensor(0.8279, device='cuda:0')\n",
      "auroc tensor(0.8858, device='cuda:0')\n"
     ]
    },
    {
     "data": {
      "application/vnd.jupyter.widget-view+json": {
       "model_id": "",
       "version_major": 2,
       "version_minor": 0
      },
      "text/plain": [
       "Validating: 0it [00:00, ?it/s]"
      ]
     },
     "metadata": {},
     "output_type": "display_data"
    },
    {
     "name": "stderr",
     "output_type": "stream",
     "text": [
      "LOCAL_RANK: 0 - CUDA_VISIBLE_DEVICES: [0]\n"
     ]
    },
    {
     "name": "stdout",
     "output_type": "stream",
     "text": [
      "loss tensor(0.5858, device='cuda:0')\n",
      "acc tensor(0.7292, device='cuda:0')\n",
      "auroc tensor(0.7568, device='cuda:0')\n",
      "loss tensor(0.3871, device='cuda:0')\n",
      "acc tensor(0.8254, device='cuda:0')\n",
      "auroc tensor(0.8831, device='cuda:0')\n"
     ]
    },
    {
     "data": {
      "application/vnd.jupyter.widget-view+json": {
       "model_id": "6a60a7261f614f72ad802784d1cbd17f",
       "version_major": 2,
       "version_minor": 0
      },
      "text/plain": [
       "Testing: 0it [00:00, ?it/s]"
      ]
     },
     "metadata": {},
     "output_type": "display_data"
    },
    {
     "name": "stdout",
     "output_type": "stream",
     "text": [
      "--------------------------------------------------------------------------------\n",
      "DATALOADER:0 TEST RESULTS\n",
      "{}\n",
      "--------------------------------------------------------------------------------\n"
     ]
    },
    {
     "data": {
      "text/plain": [
       "[{}]"
      ]
     },
     "execution_count": 9,
     "metadata": {},
     "output_type": "execute_result"
    }
   ],
   "source": [
    "# create the model\n",
    "model = ClassificationModel()\n",
    "\n",
    "# train the model\n",
    "trainer = Trainer(gpus=1, max_epochs=100)\n",
    "trainer.fit(model, train_dataloaders=train_dl, val_dataloaders=val_dl)\n",
    "trainer.test(model, test_dataloaders=test_dl)"
   ]
  },
  {
   "cell_type": "code",
   "execution_count": null,
   "id": "8098a58f-2d05-4bad-9dac-2f33a1b70363",
   "metadata": {},
   "outputs": [],
   "source": []
  }
 ],
 "metadata": {
  "kernelspec": {
   "display_name": "Python 3",
   "language": "python",
   "name": "python3"
  },
  "language_info": {
   "codemirror_mode": {
    "name": "ipython",
    "version": 3
   },
   "file_extension": ".py",
   "mimetype": "text/x-python",
   "name": "python",
   "nbconvert_exporter": "python",
   "pygments_lexer": "ipython3",
   "version": "3.7.8"
  }
 },
 "nbformat": 4,
 "nbformat_minor": 5
}
