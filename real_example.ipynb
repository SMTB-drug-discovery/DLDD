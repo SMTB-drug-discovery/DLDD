{
 "cells": [
  {
   "cell_type": "code",
   "execution_count": null,
   "id": "56123f8c",
   "metadata": {
    "ExecuteTime": {
     "end_time": "2021-08-12T10:04:00.905224Z",
     "start_time": "2021-08-12T10:03:59.738191Z"
    }
   },
   "outputs": [],
   "source": [
    "from dldd import ClassificationModel\n",
    "from pytorch_lightning import Trainer\n",
    "from torch_geometric.data import DataLoader\n",
    "from dldd.utils import TwoGraphData\n",
    "import torch\n",
    "import pickle"
   ]
  },
  {
   "cell_type": "code",
   "execution_count": null,
   "id": "12a911b0-e723-421d-ad97-c314e0d8e1fe",
   "metadata": {},
   "outputs": [],
   "source": [
    "with open('/srv/protected/final_list.pckl', 'rb') as file:\n",
    "    data_list = pickle.load(file)"
   ]
  },
  {
   "cell_type": "code",
   "execution_count": null,
   "id": "cec4b421-af21-493b-b3cb-a149c5b36283",
   "metadata": {},
   "outputs": [],
   "source": [
    "def convert_to_class(data:TwoGraphData, threshold:int=6):\n",
    "    data['label'] = torch.tensor(1, dtype=torch.long) if data['label'] < threshold else torch.tensor(0, dtype=torch.long)\n",
    "    return data"
   ]
  },
  {
   "cell_type": "code",
   "execution_count": null,
   "id": "942f6df4-928d-4c07-bc6d-17fc6acc59b1",
   "metadata": {},
   "outputs": [],
   "source": [
    "data_list = [TwoGraphData(**convert_to_class(x)) for x in data_list]"
   ]
  },
  {
   "cell_type": "code",
   "execution_count": null,
   "id": "d9c61adb",
   "metadata": {
    "ExecuteTime": {
     "end_time": "2021-08-12T10:04:04.351775Z",
     "start_time": "2021-08-12T10:04:04.282337Z"
    }
   },
   "outputs": [],
   "source": [
    "# create DataLoader\n",
    "train_dl = DataLoader(data_list,\n",
    "                batch_size=32,\n",
    "                num_workers=4,\n",
    "                follow_batch=['protein_x', 'drug_x'])"
   ]
  },
  {
   "cell_type": "code",
   "execution_count": null,
   "id": "936b6079-7012-4f2b-bdab-44910bdc4588",
   "metadata": {
    "ExecuteTime": {
     "end_time": "2021-08-12T10:04:05.527561Z",
     "start_time": "2021-08-12T10:04:05.522358Z"
    }
   },
   "outputs": [],
   "source": [
    "# create the model\n",
    "model = ClassificationModel()\n",
    "\n",
    "# train the model\n",
    "trainer = Trainer(gpus=1, max_epochs=20)\n",
    "trainer.fit(model, train_dataloaders=train_dl)"
   ]
  },
  {
   "cell_type": "code",
   "execution_count": null,
   "id": "8098a58f-2d05-4bad-9dac-2f33a1b70363",
   "metadata": {},
   "outputs": [],
   "source": []
  }
 ],
 "metadata": {
  "kernelspec": {
   "display_name": "Python 3",
   "language": "python",
   "name": "python3"
  },
  "language_info": {
   "codemirror_mode": {
    "name": "ipython",
    "version": 3
   },
   "file_extension": ".py",
   "mimetype": "text/x-python",
   "name": "python",
   "nbconvert_exporter": "python",
   "pygments_lexer": "ipython3",
   "version": "3.7.8"
  }
 },
 "nbformat": 4,
 "nbformat_minor": 5
}
